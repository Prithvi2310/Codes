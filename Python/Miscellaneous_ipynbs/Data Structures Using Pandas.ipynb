{
 "cells": [
  {
   "cell_type": "code",
   "execution_count": 7,
   "id": "463fd181",
   "metadata": {},
   "outputs": [],
   "source": [
    "import pandas as pd\n",
    "import numpy as np"
   ]
  },
  {
   "cell_type": "code",
   "execution_count": 8,
   "id": "0a83c31c",
   "metadata": {},
   "outputs": [
    {
     "data": {
      "text/plain": [
       "0    12\n",
       "1    -4\n",
       "2     7\n",
       "3     9\n",
       "dtype: int64"
      ]
     },
     "execution_count": 8,
     "metadata": {},
     "output_type": "execute_result"
    }
   ],
   "source": [
    "# Series: The object of the pandas library designed to represent one-dimensional data structures.\n",
    "s = pd.Series([12,-4,7,9])\n",
    "s"
   ]
  },
  {
   "cell_type": "code",
   "execution_count": 9,
   "id": "e1824ed1",
   "metadata": {},
   "outputs": [
    {
     "data": {
      "text/plain": [
       "a    12\n",
       "b    -4\n",
       "c     7\n",
       "d     9\n",
       "dtype: int64"
      ]
     },
     "execution_count": 9,
     "metadata": {},
     "output_type": "execute_result"
    }
   ],
   "source": [
    "#if we want to include index exclusively then,\n",
    "s = pd.Series([12,-4,7,9], index = ['a', 'b', 'c', 'd'])\n",
    "s"
   ]
  },
  {
   "cell_type": "code",
   "execution_count": 10,
   "id": "56b750fb",
   "metadata": {},
   "outputs": [
    {
     "data": {
      "text/plain": [
       "7"
      ]
     },
     "execution_count": 10,
     "metadata": {},
     "output_type": "execute_result"
    }
   ],
   "source": [
    "# Selcting internal elements\n",
    "s[2]"
   ]
  },
  {
   "cell_type": "code",
   "execution_count": 11,
   "id": "8cdf4d22",
   "metadata": {},
   "outputs": [
    {
     "data": {
      "text/plain": [
       "-4"
      ]
     },
     "execution_count": 11,
     "metadata": {},
     "output_type": "execute_result"
    }
   ],
   "source": [
    "s['b']"
   ]
  },
  {
   "cell_type": "code",
   "execution_count": 12,
   "id": "a104b0a6",
   "metadata": {},
   "outputs": [
    {
     "data": {
      "text/plain": [
       "a    12\n",
       "b    -4\n",
       "dtype: int64"
      ]
     },
     "execution_count": 12,
     "metadata": {},
     "output_type": "execute_result"
    }
   ],
   "source": [
    "# Selecting multiple elements\n",
    "s[0:2]"
   ]
  },
  {
   "cell_type": "code",
   "execution_count": 13,
   "id": "d752bec1",
   "metadata": {},
   "outputs": [
    {
     "data": {
      "text/plain": [
       "b   -4\n",
       "c    7\n",
       "dtype: int64"
      ]
     },
     "execution_count": 13,
     "metadata": {},
     "output_type": "execute_result"
    }
   ],
   "source": [
    "s[['b','c']]"
   ]
  },
  {
   "cell_type": "code",
   "execution_count": 14,
   "id": "967e1fee",
   "metadata": {},
   "outputs": [
    {
     "data": {
      "text/plain": [
       "a    12\n",
       "b     0\n",
       "c     7\n",
       "d     9\n",
       "dtype: int64"
      ]
     },
     "execution_count": 14,
     "metadata": {},
     "output_type": "execute_result"
    }
   ],
   "source": [
    "#assigning values to the elemnets\n",
    "s[1] = 0\n",
    "s"
   ]
  },
  {
   "cell_type": "code",
   "execution_count": 15,
   "id": "73777db7",
   "metadata": {},
   "outputs": [
    {
     "data": {
      "text/plain": [
       "a    12\n",
       "b     1\n",
       "c     7\n",
       "d     9\n",
       "dtype: int64"
      ]
     },
     "execution_count": 15,
     "metadata": {},
     "output_type": "execute_result"
    }
   ],
   "source": [
    "s['b'] = 1\n",
    "s"
   ]
  },
  {
   "cell_type": "code",
   "execution_count": 16,
   "id": "fed7bf73",
   "metadata": {},
   "outputs": [
    {
     "data": {
      "text/plain": [
       "0    1\n",
       "1    2\n",
       "2    3\n",
       "3    4\n",
       "dtype: int32"
      ]
     },
     "execution_count": 16,
     "metadata": {},
     "output_type": "execute_result"
    }
   ],
   "source": [
    "# Defining a series from NumPy arrays and other series\n",
    "arr = np.array([1,2,3,4])\n",
    "s3 = pd.Series(arr)\n",
    "s3"
   ]
  },
  {
   "cell_type": "code",
   "execution_count": 17,
   "id": "8cfc0aa9",
   "metadata": {},
   "outputs": [
    {
     "data": {
      "text/plain": [
       "array([1, 2, 3, 4])"
      ]
     },
     "execution_count": 17,
     "metadata": {},
     "output_type": "execute_result"
    }
   ],
   "source": [
    "arr"
   ]
  },
  {
   "cell_type": "code",
   "execution_count": 18,
   "id": "be472691",
   "metadata": {},
   "outputs": [
    {
     "data": {
      "text/plain": [
       "0    1\n",
       "1    2\n",
       "2   -2\n",
       "3    4\n",
       "dtype: int32"
      ]
     },
     "execution_count": 18,
     "metadata": {},
     "output_type": "execute_result"
    }
   ],
   "source": [
    "arr[2] = -2\n",
    "s3"
   ]
  },
  {
   "cell_type": "code",
   "execution_count": 19,
   "id": "f568eccb",
   "metadata": {},
   "outputs": [
    {
     "data": {
      "text/plain": [
       "a    12\n",
       "d     9\n",
       "dtype: int64"
      ]
     },
     "execution_count": 19,
     "metadata": {},
     "output_type": "execute_result"
    }
   ],
   "source": [
    "# To select the element in the series that are greater than 8\n",
    "s[s>8]"
   ]
  },
  {
   "cell_type": "code",
   "execution_count": 20,
   "id": "847f2e84",
   "metadata": {},
   "outputs": [
    {
     "data": {
      "text/plain": [
       "White     1\n",
       "White     0\n",
       "Blue      2\n",
       "Green     1\n",
       "Green     2\n",
       "Yellow    3\n",
       "dtype: int64"
      ]
     },
     "execution_count": 20,
     "metadata": {},
     "output_type": "execute_result"
    }
   ],
   "source": [
    "# Evaluating values: To check the existence of duplicate values in a series, we use the function unique()\n",
    "serd = pd.Series([1,0,2,1,2,3], index = ['White','White','Blue','Green','Green','Yellow'])\n",
    "serd"
   ]
  },
  {
   "cell_type": "code",
   "execution_count": 21,
   "id": "0849fd9d",
   "metadata": {},
   "outputs": [
    {
     "data": {
      "text/plain": [
       "array([1, 0, 2, 3], dtype=int64)"
      ]
     },
     "execution_count": 21,
     "metadata": {},
     "output_type": "execute_result"
    }
   ],
   "source": [
    "serd.unique()"
   ]
  },
  {
   "cell_type": "code",
   "execution_count": 22,
   "id": "da608027",
   "metadata": {},
   "outputs": [
    {
     "data": {
      "text/plain": [
       "1    2\n",
       "2    2\n",
       "0    1\n",
       "3    1\n",
       "dtype: int64"
      ]
     },
     "execution_count": 22,
     "metadata": {},
     "output_type": "execute_result"
    }
   ],
   "source": [
    "# value_counts(): This function not only returns unique values but also calculates the occurence in series\n",
    "serd.value_counts()"
   ]
  },
  {
   "cell_type": "code",
   "execution_count": 23,
   "id": "cc914b91",
   "metadata": {},
   "outputs": [
    {
     "data": {
      "text/plain": [
       "White     False\n",
       "White      True\n",
       "Blue      False\n",
       "Green     False\n",
       "Green     False\n",
       "Yellow     True\n",
       "dtype: bool"
      ]
     },
     "execution_count": 23,
     "metadata": {},
     "output_type": "execute_result"
    }
   ],
   "source": [
    "# isin(): This function evaluates the relationship theta, whether the values presernt in series. It returns the boolean values\n",
    "serd.isin([0,3])"
   ]
  },
  {
   "cell_type": "code",
   "execution_count": 24,
   "id": "34335d44",
   "metadata": {},
   "outputs": [
    {
     "data": {
      "text/plain": [
       "White      True\n",
       "White     False\n",
       "Blue       True\n",
       "Green      True\n",
       "Green      True\n",
       "Yellow    False\n",
       "dtype: bool"
      ]
     },
     "execution_count": 24,
     "metadata": {},
     "output_type": "execute_result"
    }
   ],
   "source": [
    "serd.isin([1,2])"
   ]
  },
  {
   "cell_type": "code",
   "execution_count": 25,
   "id": "e496d53b",
   "metadata": {},
   "outputs": [
    {
     "data": {
      "text/plain": [
       "White     0\n",
       "Yellow    3\n",
       "dtype: int64"
      ]
     },
     "execution_count": 25,
     "metadata": {},
     "output_type": "execute_result"
    }
   ],
   "source": [
    "serd[serd.isin([0,3])]"
   ]
  },
  {
   "cell_type": "code",
   "execution_count": 26,
   "id": "587b2e08",
   "metadata": {},
   "outputs": [
    {
     "data": {
      "text/plain": [
       "0     5.0\n",
       "1    -3.0\n",
       "2     NaN\n",
       "3    14.0\n",
       "dtype: float64"
      ]
     },
     "execution_count": 26,
     "metadata": {},
     "output_type": "execute_result"
    }
   ],
   "source": [
    "# NaN values (Not A Number): To indicate the presence of an empty field or something that is not defined numeric.\n",
    "s2 = pd.Series([5, -3, np.NAN, 14])\n",
    "s2"
   ]
  },
  {
   "cell_type": "code",
   "execution_count": 27,
   "id": "f472e16a",
   "metadata": {},
   "outputs": [
    {
     "data": {
      "text/plain": [
       "0    False\n",
       "1    False\n",
       "2     True\n",
       "3    False\n",
       "dtype: bool"
      ]
     },
     "execution_count": 27,
     "metadata": {},
     "output_type": "execute_result"
    }
   ],
   "source": [
    "s2.isnull()"
   ]
  },
  {
   "cell_type": "code",
   "execution_count": 28,
   "id": "ce190889",
   "metadata": {},
   "outputs": [
    {
     "data": {
      "text/plain": [
       "0     True\n",
       "1     True\n",
       "2    False\n",
       "3     True\n",
       "dtype: bool"
      ]
     },
     "execution_count": 28,
     "metadata": {},
     "output_type": "execute_result"
    }
   ],
   "source": [
    "s2.notnull()"
   ]
  },
  {
   "cell_type": "code",
   "execution_count": 29,
   "id": "ac1ff7fc",
   "metadata": {},
   "outputs": [
    {
     "data": {
      "text/plain": [
       "0     5.0\n",
       "1    -3.0\n",
       "3    14.0\n",
       "dtype: float64"
      ]
     },
     "execution_count": 29,
     "metadata": {},
     "output_type": "execute_result"
    }
   ],
   "source": [
    "s2[s2.notnull()]"
   ]
  },
  {
   "cell_type": "code",
   "execution_count": 30,
   "id": "0fe74a64",
   "metadata": {},
   "outputs": [
    {
     "data": {
      "text/plain": [
       "2   NaN\n",
       "dtype: float64"
      ]
     },
     "execution_count": 30,
     "metadata": {},
     "output_type": "execute_result"
    }
   ],
   "source": [
    "s2[s2.isnull()]"
   ]
  },
  {
   "cell_type": "code",
   "execution_count": 34,
   "id": "6b711a24",
   "metadata": {},
   "outputs": [
    {
     "name": "stdout",
     "output_type": "stream",
     "text": [
      "        ball  pen  pencil  paper\n",
      "red        0    1       2      3\n",
      "blue       4    5       6      7\n",
      "yellow     8    9      10     11\n",
      "white     12   13      14     15\n",
      "\n",
      "        mug  pen  ball\n",
      "blue      0    1     2\n",
      "green     3    4     5\n",
      "white     6    7     8\n",
      "yellow    9   10    11\n"
     ]
    }
   ],
   "source": [
    "frame1 = pd.DataFrame(np.arange(16).reshape((4,4)), index = ['red','blue','yellow','white'], columns = ['ball', 'pen', 'pencil', 'paper'])\n",
    "frame2 = pd.DataFrame(np.arange(12).reshape((4,3)), index = ['blue','green','white','yellow'], columns = ['mug','pen', 'ball'])\n",
    "print(frame1)\n",
    "print(\"\")\n",
    "print(frame2)"
   ]
  },
  {
   "cell_type": "code",
   "execution_count": 35,
   "id": "0bfceba0",
   "metadata": {},
   "outputs": [
    {
     "data": {
      "text/html": [
       "<div>\n",
       "<style scoped>\n",
       "    .dataframe tbody tr th:only-of-type {\n",
       "        vertical-align: middle;\n",
       "    }\n",
       "\n",
       "    .dataframe tbody tr th {\n",
       "        vertical-align: top;\n",
       "    }\n",
       "\n",
       "    .dataframe thead th {\n",
       "        text-align: right;\n",
       "    }\n",
       "</style>\n",
       "<table border=\"1\" class=\"dataframe\">\n",
       "  <thead>\n",
       "    <tr style=\"text-align: right;\">\n",
       "      <th></th>\n",
       "      <th>ball</th>\n",
       "      <th>mug</th>\n",
       "      <th>paper</th>\n",
       "      <th>pen</th>\n",
       "      <th>pencil</th>\n",
       "    </tr>\n",
       "  </thead>\n",
       "  <tbody>\n",
       "    <tr>\n",
       "      <th>blue</th>\n",
       "      <td>6.0</td>\n",
       "      <td>NaN</td>\n",
       "      <td>NaN</td>\n",
       "      <td>6.0</td>\n",
       "      <td>NaN</td>\n",
       "    </tr>\n",
       "    <tr>\n",
       "      <th>green</th>\n",
       "      <td>NaN</td>\n",
       "      <td>NaN</td>\n",
       "      <td>NaN</td>\n",
       "      <td>NaN</td>\n",
       "      <td>NaN</td>\n",
       "    </tr>\n",
       "    <tr>\n",
       "      <th>red</th>\n",
       "      <td>NaN</td>\n",
       "      <td>NaN</td>\n",
       "      <td>NaN</td>\n",
       "      <td>NaN</td>\n",
       "      <td>NaN</td>\n",
       "    </tr>\n",
       "    <tr>\n",
       "      <th>white</th>\n",
       "      <td>20.0</td>\n",
       "      <td>NaN</td>\n",
       "      <td>NaN</td>\n",
       "      <td>20.0</td>\n",
       "      <td>NaN</td>\n",
       "    </tr>\n",
       "    <tr>\n",
       "      <th>yellow</th>\n",
       "      <td>19.0</td>\n",
       "      <td>NaN</td>\n",
       "      <td>NaN</td>\n",
       "      <td>19.0</td>\n",
       "      <td>NaN</td>\n",
       "    </tr>\n",
       "  </tbody>\n",
       "</table>\n",
       "</div>"
      ],
      "text/plain": [
       "        ball  mug  paper   pen  pencil\n",
       "blue     6.0  NaN    NaN   6.0     NaN\n",
       "green    NaN  NaN    NaN   NaN     NaN\n",
       "red      NaN  NaN    NaN   NaN     NaN\n",
       "white   20.0  NaN    NaN  20.0     NaN\n",
       "yellow  19.0  NaN    NaN  19.0     NaN"
      ]
     },
     "execution_count": 35,
     "metadata": {},
     "output_type": "execute_result"
    }
   ],
   "source": [
    "frame1.add(frame2)"
   ]
  },
  {
   "cell_type": "code",
   "execution_count": 36,
   "id": "384bfbf3",
   "metadata": {},
   "outputs": [
    {
     "data": {
      "text/html": [
       "<div>\n",
       "<style scoped>\n",
       "    .dataframe tbody tr th:only-of-type {\n",
       "        vertical-align: middle;\n",
       "    }\n",
       "\n",
       "    .dataframe tbody tr th {\n",
       "        vertical-align: top;\n",
       "    }\n",
       "\n",
       "    .dataframe thead th {\n",
       "        text-align: right;\n",
       "    }\n",
       "</style>\n",
       "<table border=\"1\" class=\"dataframe\">\n",
       "  <thead>\n",
       "    <tr style=\"text-align: right;\">\n",
       "      <th></th>\n",
       "      <th>ball</th>\n",
       "      <th>mug</th>\n",
       "      <th>paper</th>\n",
       "      <th>pen</th>\n",
       "      <th>pencil</th>\n",
       "    </tr>\n",
       "  </thead>\n",
       "  <tbody>\n",
       "    <tr>\n",
       "      <th>blue</th>\n",
       "      <td>6.0</td>\n",
       "      <td>NaN</td>\n",
       "      <td>NaN</td>\n",
       "      <td>6.0</td>\n",
       "      <td>NaN</td>\n",
       "    </tr>\n",
       "    <tr>\n",
       "      <th>green</th>\n",
       "      <td>NaN</td>\n",
       "      <td>NaN</td>\n",
       "      <td>NaN</td>\n",
       "      <td>NaN</td>\n",
       "      <td>NaN</td>\n",
       "    </tr>\n",
       "    <tr>\n",
       "      <th>red</th>\n",
       "      <td>NaN</td>\n",
       "      <td>NaN</td>\n",
       "      <td>NaN</td>\n",
       "      <td>NaN</td>\n",
       "      <td>NaN</td>\n",
       "    </tr>\n",
       "    <tr>\n",
       "      <th>white</th>\n",
       "      <td>20.0</td>\n",
       "      <td>NaN</td>\n",
       "      <td>NaN</td>\n",
       "      <td>20.0</td>\n",
       "      <td>NaN</td>\n",
       "    </tr>\n",
       "    <tr>\n",
       "      <th>yellow</th>\n",
       "      <td>19.0</td>\n",
       "      <td>NaN</td>\n",
       "      <td>NaN</td>\n",
       "      <td>19.0</td>\n",
       "      <td>NaN</td>\n",
       "    </tr>\n",
       "  </tbody>\n",
       "</table>\n",
       "</div>"
      ],
      "text/plain": [
       "        ball  mug  paper   pen  pencil\n",
       "blue     6.0  NaN    NaN   6.0     NaN\n",
       "green    NaN  NaN    NaN   NaN     NaN\n",
       "red      NaN  NaN    NaN   NaN     NaN\n",
       "white   20.0  NaN    NaN  20.0     NaN\n",
       "yellow  19.0  NaN    NaN  19.0     NaN"
      ]
     },
     "execution_count": 36,
     "metadata": {},
     "output_type": "execute_result"
    }
   ],
   "source": [
    "frame1 + frame2"
   ]
  },
  {
   "cell_type": "code",
   "execution_count": 38,
   "id": "d30006a9",
   "metadata": {},
   "outputs": [
    {
     "name": "stdout",
     "output_type": "stream",
     "text": [
      "ball      0\n",
      "pen       1\n",
      "pencil    2\n",
      "paper     3\n",
      "dtype: int32\n"
     ]
    }
   ],
   "source": [
    "ser = pd.Series(np.arange(4), index = ['ball', 'pen', 'pencil', 'paper'])\n",
    "print(ser)"
   ]
  },
  {
   "cell_type": "code",
   "execution_count": 40,
   "id": "4796ea1e",
   "metadata": {},
   "outputs": [
    {
     "data": {
      "text/html": [
       "<div>\n",
       "<style scoped>\n",
       "    .dataframe tbody tr th:only-of-type {\n",
       "        vertical-align: middle;\n",
       "    }\n",
       "\n",
       "    .dataframe tbody tr th {\n",
       "        vertical-align: top;\n",
       "    }\n",
       "\n",
       "    .dataframe thead th {\n",
       "        text-align: right;\n",
       "    }\n",
       "</style>\n",
       "<table border=\"1\" class=\"dataframe\">\n",
       "  <thead>\n",
       "    <tr style=\"text-align: right;\">\n",
       "      <th></th>\n",
       "      <th>ball</th>\n",
       "      <th>pen</th>\n",
       "      <th>pencil</th>\n",
       "      <th>paper</th>\n",
       "    </tr>\n",
       "  </thead>\n",
       "  <tbody>\n",
       "    <tr>\n",
       "      <th>red</th>\n",
       "      <td>0</td>\n",
       "      <td>0</td>\n",
       "      <td>0</td>\n",
       "      <td>0</td>\n",
       "    </tr>\n",
       "    <tr>\n",
       "      <th>blue</th>\n",
       "      <td>4</td>\n",
       "      <td>4</td>\n",
       "      <td>4</td>\n",
       "      <td>4</td>\n",
       "    </tr>\n",
       "    <tr>\n",
       "      <th>yellow</th>\n",
       "      <td>8</td>\n",
       "      <td>8</td>\n",
       "      <td>8</td>\n",
       "      <td>8</td>\n",
       "    </tr>\n",
       "    <tr>\n",
       "      <th>white</th>\n",
       "      <td>12</td>\n",
       "      <td>12</td>\n",
       "      <td>12</td>\n",
       "      <td>12</td>\n",
       "    </tr>\n",
       "  </tbody>\n",
       "</table>\n",
       "</div>"
      ],
      "text/plain": [
       "        ball  pen  pencil  paper\n",
       "red        0    0       0      0\n",
       "blue       4    4       4      4\n",
       "yellow     8    8       8      8\n",
       "white     12   12      12     12"
      ]
     },
     "execution_count": 40,
     "metadata": {},
     "output_type": "execute_result"
    }
   ],
   "source": [
    "frame1 - ser"
   ]
  },
  {
   "cell_type": "code",
   "execution_count": 41,
   "id": "9f1396ba",
   "metadata": {},
   "outputs": [
    {
     "data": {
      "text/plain": [
       "ball      0\n",
       "pen       1\n",
       "pencil    2\n",
       "paper     3\n",
       "mug       9\n",
       "dtype: int64"
      ]
     },
     "execution_count": 41,
     "metadata": {},
     "output_type": "execute_result"
    }
   ],
   "source": [
    "# if an index is not present in one of the two data strucures, the result will\n",
    "ser['mug'] = 9\n",
    "ser"
   ]
  },
  {
   "cell_type": "code",
   "execution_count": 42,
   "id": "94cf406b",
   "metadata": {},
   "outputs": [
    {
     "data": {
      "text/html": [
       "<div>\n",
       "<style scoped>\n",
       "    .dataframe tbody tr th:only-of-type {\n",
       "        vertical-align: middle;\n",
       "    }\n",
       "\n",
       "    .dataframe tbody tr th {\n",
       "        vertical-align: top;\n",
       "    }\n",
       "\n",
       "    .dataframe thead th {\n",
       "        text-align: right;\n",
       "    }\n",
       "</style>\n",
       "<table border=\"1\" class=\"dataframe\">\n",
       "  <thead>\n",
       "    <tr style=\"text-align: right;\">\n",
       "      <th></th>\n",
       "      <th>ball</th>\n",
       "      <th>mug</th>\n",
       "      <th>paper</th>\n",
       "      <th>pen</th>\n",
       "      <th>pencil</th>\n",
       "    </tr>\n",
       "  </thead>\n",
       "  <tbody>\n",
       "    <tr>\n",
       "      <th>red</th>\n",
       "      <td>0</td>\n",
       "      <td>NaN</td>\n",
       "      <td>0</td>\n",
       "      <td>0</td>\n",
       "      <td>0</td>\n",
       "    </tr>\n",
       "    <tr>\n",
       "      <th>blue</th>\n",
       "      <td>4</td>\n",
       "      <td>NaN</td>\n",
       "      <td>4</td>\n",
       "      <td>4</td>\n",
       "      <td>4</td>\n",
       "    </tr>\n",
       "    <tr>\n",
       "      <th>yellow</th>\n",
       "      <td>8</td>\n",
       "      <td>NaN</td>\n",
       "      <td>8</td>\n",
       "      <td>8</td>\n",
       "      <td>8</td>\n",
       "    </tr>\n",
       "    <tr>\n",
       "      <th>white</th>\n",
       "      <td>12</td>\n",
       "      <td>NaN</td>\n",
       "      <td>12</td>\n",
       "      <td>12</td>\n",
       "      <td>12</td>\n",
       "    </tr>\n",
       "  </tbody>\n",
       "</table>\n",
       "</div>"
      ],
      "text/plain": [
       "        ball  mug  paper  pen  pencil\n",
       "red        0  NaN      0    0       0\n",
       "blue       4  NaN      4    4       4\n",
       "yellow     8  NaN      8    8       8\n",
       "white     12  NaN     12   12      12"
      ]
     },
     "execution_count": 42,
     "metadata": {},
     "output_type": "execute_result"
    }
   ],
   "source": [
    "frame1 - ser"
   ]
  },
  {
   "cell_type": "markdown",
   "id": "f14a0296",
   "metadata": {},
   "source": [
    "# FUNCTION APPLICATION AND MAPPING\n",
    "\n",
    "1 fucntion by element\n",
    "2 fucntion by row and column\n",
    "3 statistical fucntions"
   ]
  },
  {
   "cell_type": "code",
   "execution_count": 43,
   "id": "c3b23e4d",
   "metadata": {},
   "outputs": [
    {
     "data": {
      "text/html": [
       "<div>\n",
       "<style scoped>\n",
       "    .dataframe tbody tr th:only-of-type {\n",
       "        vertical-align: middle;\n",
       "    }\n",
       "\n",
       "    .dataframe tbody tr th {\n",
       "        vertical-align: top;\n",
       "    }\n",
       "\n",
       "    .dataframe thead th {\n",
       "        text-align: right;\n",
       "    }\n",
       "</style>\n",
       "<table border=\"1\" class=\"dataframe\">\n",
       "  <thead>\n",
       "    <tr style=\"text-align: right;\">\n",
       "      <th></th>\n",
       "      <th>ball</th>\n",
       "      <th>pen</th>\n",
       "      <th>pencil</th>\n",
       "      <th>paper</th>\n",
       "    </tr>\n",
       "  </thead>\n",
       "  <tbody>\n",
       "    <tr>\n",
       "      <th>red</th>\n",
       "      <td>0.000000</td>\n",
       "      <td>1.000000</td>\n",
       "      <td>1.414214</td>\n",
       "      <td>1.732051</td>\n",
       "    </tr>\n",
       "    <tr>\n",
       "      <th>blue</th>\n",
       "      <td>2.000000</td>\n",
       "      <td>2.236068</td>\n",
       "      <td>2.449490</td>\n",
       "      <td>2.645751</td>\n",
       "    </tr>\n",
       "    <tr>\n",
       "      <th>yellow</th>\n",
       "      <td>2.828427</td>\n",
       "      <td>3.000000</td>\n",
       "      <td>3.162278</td>\n",
       "      <td>3.316625</td>\n",
       "    </tr>\n",
       "    <tr>\n",
       "      <th>white</th>\n",
       "      <td>3.464102</td>\n",
       "      <td>3.605551</td>\n",
       "      <td>3.741657</td>\n",
       "      <td>3.872983</td>\n",
       "    </tr>\n",
       "  </tbody>\n",
       "</table>\n",
       "</div>"
      ],
      "text/plain": [
       "            ball       pen    pencil     paper\n",
       "red     0.000000  1.000000  1.414214  1.732051\n",
       "blue    2.000000  2.236068  2.449490  2.645751\n",
       "yellow  2.828427  3.000000  3.162278  3.316625\n",
       "white   3.464102  3.605551  3.741657  3.872983"
      ]
     },
     "execution_count": 43,
     "metadata": {},
     "output_type": "execute_result"
    }
   ],
   "source": [
    "#1 The pandas library is built on the foundations of Numpy and then extends many of it's features by adapting them to new\n",
    "# data structures as series and dataframe. Among these are the universal functions,called unfunc.\n",
    "np.sqrt(frame1)"
   ]
  },
  {
   "cell_type": "code",
   "execution_count": 59,
   "id": "cf53eaec",
   "metadata": {},
   "outputs": [
    {
     "name": "stdout",
     "output_type": "stream",
     "text": [
      "ball      12\n",
      "pen       12\n",
      "pencil    12\n",
      "paper     12\n",
      "dtype: int32\n",
      "\n",
      "ball      12\n",
      "pen       12\n",
      "pencil    12\n",
      "paper     12\n",
      "dtype: int64\n",
      "\n",
      "red       3\n",
      "blue      3\n",
      "yellow    3\n",
      "white     3\n",
      "dtype: int64\n",
      "\n",
      "     ball  pen  pencil  paper\n",
      "min     0    1       2      3\n",
      "max    12   13      14     15\n"
     ]
    }
   ],
   "source": [
    "#2\n",
    "f = lambda x:x.max()-x.min()\n",
    "def f(x):\n",
    "    return x.max()-x.min()\n",
    "print(f(frame1))\n",
    "print(\"\")\n",
    "print(frame1.apply(f))\n",
    "print(\"\")\n",
    "print(frame1.apply(f,axis=1))\n",
    "print(\"\")\n",
    "def f(x):\n",
    "    return pd.Series([x.min(), x.max()], index=['min','max'])\n",
    "print(frame1.apply(f))"
   ]
  },
  {
   "cell_type": "code",
   "execution_count": 60,
   "id": "b0430891",
   "metadata": {},
   "outputs": [
    {
     "name": "stdout",
     "output_type": "stream",
     "text": [
      "ball      24\n",
      "pen       28\n",
      "pencil    32\n",
      "paper     36\n",
      "dtype: int64\n",
      "\n",
      "ball      6.0\n",
      "pen       7.0\n",
      "pencil    8.0\n",
      "paper     9.0\n",
      "dtype: float64\n",
      "\n",
      "            ball        pen     pencil      paper\n",
      "count   4.000000   4.000000   4.000000   4.000000\n",
      "mean    6.000000   7.000000   8.000000   9.000000\n",
      "std     5.163978   5.163978   5.163978   5.163978\n",
      "min     0.000000   1.000000   2.000000   3.000000\n",
      "25%     3.000000   4.000000   5.000000   6.000000\n",
      "50%     6.000000   7.000000   8.000000   9.000000\n",
      "75%     9.000000  10.000000  11.000000  12.000000\n",
      "max    12.000000  13.000000  14.000000  15.000000\n"
     ]
    }
   ],
   "source": [
    "#3\n",
    "print(frame1.sum())\n",
    "print(\"\")\n",
    "print(frame1.mean())\n",
    "print(\"\")\n",
    "print(frame1.describe())"
   ]
  },
  {
   "cell_type": "markdown",
   "id": "9376a922",
   "metadata": {},
   "source": [
    "# Sorting and Ranking\n",
    "\n",
    "Another fundamental operation that uses indexing is sorting. Sorting the data is often \n",
    "a necessity and it is very important to be able to do it easily. pandas provides the sort_\n",
    "index() function, which returns a new object that’s identical to the start, but in which \n",
    "the elements are ordered."
   ]
  },
  {
   "cell_type": "code",
   "execution_count": 62,
   "id": "46b09b2d",
   "metadata": {},
   "outputs": [
    {
     "name": "stdout",
     "output_type": "stream",
     "text": [
      "red       5\n",
      "blue      0\n",
      "yellow    3\n",
      "white     8\n",
      "green     4\n",
      "dtype: int64\n",
      "\n",
      "blue      0\n",
      "green     4\n",
      "red       5\n",
      "white     8\n",
      "yellow    3\n",
      "dtype: int64\n"
     ]
    }
   ],
   "source": [
    "s1 = pd.Series([5,0,3,8,4], index=['red','blue','yellow','white','green'])\n",
    "print(s1)\n",
    "print(\"\")\n",
    "print(s1.sort_index())"
   ]
  },
  {
   "cell_type": "code",
   "execution_count": 63,
   "id": "5613875a",
   "metadata": {},
   "outputs": [
    {
     "data": {
      "text/plain": [
       "yellow    3\n",
       "white     8\n",
       "red       5\n",
       "green     4\n",
       "blue      0\n",
       "dtype: int64"
      ]
     },
     "execution_count": 63,
     "metadata": {},
     "output_type": "execute_result"
    }
   ],
   "source": [
    "s1.sort_index(ascending = False)"
   ]
  },
  {
   "cell_type": "code",
   "execution_count": 65,
   "id": "fb0447a2",
   "metadata": {},
   "outputs": [
    {
     "name": "stdout",
     "output_type": "stream",
     "text": [
      "        ball  pen  pencil  paper\n",
      "blue       4    5       6      7\n",
      "red        0    1       2      3\n",
      "white     12   13      14     15\n",
      "yellow     8    9      10     11\n",
      "\n",
      "        ball  paper  pen  pencil\n",
      "red        0      3    1       2\n",
      "blue       4      7    5       6\n",
      "yellow     8     11    9      10\n",
      "white     12     15   13      14\n"
     ]
    }
   ],
   "source": [
    "print(frame1.sort_index())\n",
    "print(\"\")\n",
    "print(frame1.sort_index(axis = 1))"
   ]
  },
  {
   "cell_type": "code",
   "execution_count": 66,
   "id": "99fb909e",
   "metadata": {},
   "outputs": [
    {
     "data": {
      "text/plain": [
       "blue      0\n",
       "yellow    3\n",
       "green     4\n",
       "red       5\n",
       "white     8\n",
       "dtype: int64"
      ]
     },
     "execution_count": 66,
     "metadata": {},
     "output_type": "execute_result"
    }
   ],
   "source": [
    "s1.sort_values()"
   ]
  },
  {
   "cell_type": "code",
   "execution_count": 68,
   "id": "245d922c",
   "metadata": {},
   "outputs": [
    {
     "name": "stdout",
     "output_type": "stream",
     "text": [
      "        ball  pen  pencil  paper\n",
      "red        0    1       2      3\n",
      "blue       4    5       6      7\n",
      "yellow     8    9      10     11\n",
      "white     12   13      14     15\n",
      "\n",
      "        ball  pen  pencil  paper\n",
      "red        0    1       2      3\n",
      "blue       4    5       6      7\n",
      "yellow     8    9      10     11\n",
      "white     12   13      14     15\n"
     ]
    }
   ],
   "source": [
    "print(frame1.sort_values(by = 'pen'))\n",
    "print(\"\")\n",
    "print(frame1.sort_values(by = ['pen', 'pencil']))"
   ]
  },
  {
   "cell_type": "markdown",
   "id": "88d93751",
   "metadata": {},
   "source": [
    "The ranking is an operation closely related to sorting. It mainly consists of assigning \n",
    "a rank (that is, a value that starts at 0 and then increase gradually) to each element of the \n",
    "series. The rank will be assigned starting from the lowest value to the highest"
   ]
  },
  {
   "cell_type": "code",
   "execution_count": 70,
   "id": "0e20c048",
   "metadata": {},
   "outputs": [
    {
     "name": "stdout",
     "output_type": "stream",
     "text": [
      "red       4.0\n",
      "blue      1.0\n",
      "yellow    2.0\n",
      "white     5.0\n",
      "green     3.0\n",
      "dtype: float64\n",
      "\n",
      "red       4.0\n",
      "blue      1.0\n",
      "yellow    2.0\n",
      "white     5.0\n",
      "green     3.0\n",
      "dtype: float64\n",
      "\n",
      "red       2.0\n",
      "blue      5.0\n",
      "yellow    4.0\n",
      "white     1.0\n",
      "green     3.0\n",
      "dtype: float64\n"
     ]
    }
   ],
   "source": [
    "print(s1.rank())\n",
    "print(\"\")\n",
    "print(s1.rank(method = 'first'))\n",
    "print(\"\")\n",
    "print(s1.rank(ascending = False))"
   ]
  },
  {
   "cell_type": "markdown",
   "id": "63537f4a",
   "metadata": {},
   "source": [
    "# Correlation and Covariance\n",
    "\n",
    "Two important statistical calculations are correlation and covariance, expressed in \n",
    "pandas by the corr() and cov() functions. These kind of calculations normally involve \n",
    "two series.\n",
    "Covariance shows you how two variables differ, whereas correlation shows you how the two variablea are related."
   ]
  },
  {
   "cell_type": "code",
   "execution_count": 71,
   "id": "483840ee",
   "metadata": {},
   "outputs": [
    {
     "name": "stdout",
     "output_type": "stream",
     "text": [
      "0.7745966692414835\n",
      "\n",
      "0.8571428571428571\n"
     ]
    }
   ],
   "source": [
    "seq2 = pd.Series([3,4,3,4,5,4,3,2],['2006','2007','2008','2009','2010','2011','2012','2013'])\n",
    "seq = pd.Series([1,2,3,4,4,3,2,1],['2006','2007','2008','2009','2010','2011','2012','2013'])\n",
    "print(seq.corr(seq2))\n",
    "print(\"\")\n",
    "print(seq.cov(seq2))"
   ]
  },
  {
   "cell_type": "code",
   "execution_count": 76,
   "id": "94b6e887",
   "metadata": {},
   "outputs": [
    {
     "name": "stdout",
     "output_type": "stream",
     "text": [
      "1.0\n",
      "1.4285714285714284\n"
     ]
    }
   ],
   "source": [
    "print(seq.corr(seq))\n",
    "print(seq.cov(seq))"
   ]
  },
  {
   "cell_type": "code",
   "execution_count": 80,
   "id": "6218c8f8",
   "metadata": {},
   "outputs": [
    {
     "name": "stdout",
     "output_type": "stream",
     "text": [
      "            ball       pen    pencil     paper\n",
      "ball    1.000000 -0.276026  0.577350 -0.763763\n",
      "pen    -0.276026  1.000000 -0.079682 -0.361403\n",
      "pencil  0.577350 -0.079682  1.000000 -0.692935\n",
      "paper  -0.763763 -0.361403 -0.692935  1.000000\n",
      "\n",
      "            ball       pen    pencil     paper\n",
      "ball    2.000000 -0.666667  2.000000 -2.333333\n",
      "pen    -0.666667  2.916667 -0.333333 -1.333333\n",
      "pencil  2.000000 -0.333333  6.000000 -3.666667\n",
      "paper  -2.333333 -1.333333 -3.666667  4.666667\n"
     ]
    }
   ],
   "source": [
    "frame2 = pd.DataFrame([[1,4,3,6],[4,5,6,1],[3,3,1,5],[4,1,6,4]], index=['red','blue','yellow','white'], columns=['ball','pen','pencil','paper'])\n",
    "print(frame2.corr())\n",
    "print(\"\")\n",
    "print(frame2.cov())"
   ]
  },
  {
   "cell_type": "code",
   "execution_count": 81,
   "id": "786dd95d",
   "metadata": {},
   "outputs": [
    {
     "name": "stdout",
     "output_type": "stream",
     "text": [
      "ball      0.730297\n",
      "pen      -0.831522\n",
      "pencil    0.210819\n",
      "paper    -0.119523\n",
      "dtype: float64\n",
      "\n",
      "ball      0.730297\n",
      "pen      -0.831522\n",
      "pencil    0.210819\n",
      "paper    -0.119523\n",
      "dtype: float64\n"
     ]
    }
   ],
   "source": [
    "ser = pd.Series([0,1,2,3,9], index=['red','blue','yellow','white','green'])\n",
    "print(frame2.corrwith(ser))\n",
    "print(\"\")\n",
    "print( frame2.corrwith(frame1))"
   ]
  },
  {
   "cell_type": "markdown",
   "id": "c5b5430d",
   "metadata": {},
   "source": [
    "# “Not a Number” Data\n",
    "\n",
    "In the previous sections, you saw how easily missing data can be formed. They are \n",
    "recognizable in the data structures by the NaN (Not a Number) value. So, having values \n",
    "that are not defined in a data structure is quite common in data analysis.\n",
    "However, pandas is designed to better manage this eventuality. In fact, in this \n",
    "section, you will learn how to treat these values so that many issues can be obviated. \n",
    "For example, in the pandas library, calculating descriptive statistics excludes NaN values \n",
    "implicitly"
   ]
  },
  {
   "cell_type": "code",
   "execution_count": 82,
   "id": "dbd08ea8",
   "metadata": {},
   "outputs": [
    {
     "data": {
      "text/plain": [
       "red       0.0\n",
       "blue      1.0\n",
       "yellow    2.0\n",
       "white     NaN\n",
       "green     9.0\n",
       "dtype: float64"
      ]
     },
     "execution_count": 82,
     "metadata": {},
     "output_type": "execute_result"
    }
   ],
   "source": [
    "ser = pd.Series([0,1,2,np.NaN,9], index=['red','blue','yellow','white','green'])\n",
    "ser"
   ]
  },
  {
   "cell_type": "code",
   "execution_count": 84,
   "id": "18c1b8d5",
   "metadata": {},
   "outputs": [
    {
     "data": {
      "text/plain": [
       "red       0.0\n",
       "blue      1.0\n",
       "yellow    2.0\n",
       "white     NaN\n",
       "green     9.0\n",
       "dtype: float64"
      ]
     },
     "execution_count": 84,
     "metadata": {},
     "output_type": "execute_result"
    }
   ],
   "source": [
    "ser['white'] = None\n",
    "ser"
   ]
  },
  {
   "cell_type": "markdown",
   "id": "c79404c0",
   "metadata": {},
   "source": [
    "# Filtering Out NaN Values\n",
    "There are various ways to eliminate the NaN values during data analysis. Eliminating them \n",
    "by hand, element by element, can be very tedious and risky, and you’re never sure that \n",
    "you eliminated all the NaN values. This is where the dropna() function comes to your aid"
   ]
  },
  {
   "cell_type": "code",
   "execution_count": 85,
   "id": "3b667231",
   "metadata": {},
   "outputs": [
    {
     "name": "stdout",
     "output_type": "stream",
     "text": [
      "red       0.0\n",
      "blue      1.0\n",
      "yellow    2.0\n",
      "green     9.0\n",
      "dtype: float64\n",
      "\n",
      "red        True\n",
      "blue       True\n",
      "yellow     True\n",
      "white     False\n",
      "green      True\n",
      "dtype: bool\n"
     ]
    }
   ],
   "source": [
    "print(ser.dropna())\n",
    "print(\"\")\n",
    "print(ser.notnull())"
   ]
  },
  {
   "cell_type": "code",
   "execution_count": 87,
   "id": "6151f64f",
   "metadata": {},
   "outputs": [
    {
     "name": "stdout",
     "output_type": "stream",
     "text": [
      "       ball  mug  pen\n",
      "blue    6.0  NaN  6.0\n",
      "green   NaN  NaN  NaN\n",
      "red     2.0  NaN  5.0\n",
      "\n",
      "Empty DataFrame\n",
      "Columns: [ball, mug, pen]\n",
      "Index: []\n",
      "\n",
      "      ball  mug  pen\n",
      "blue   6.0  NaN  6.0\n",
      "red    2.0  NaN  5.0\n"
     ]
    }
   ],
   "source": [
    "frame3 = pd.DataFrame([[6,np.nan,6],[np.nan,np.nan,np.nan],[2,np.nan,5]], index = ['blue','green','red'], columns = ['ball','mug','pen'])\n",
    "print(frame3)\n",
    "print(\"\")\n",
    "print(frame3.dropna())\n",
    "print(\"\")\n",
    "print(frame3.dropna(how='all'))"
   ]
  },
  {
   "cell_type": "markdown",
   "id": "95799015",
   "metadata": {},
   "source": [
    "# Filling in NaN Occurrences\n",
    "Rather than filter NaN values within data structures, with the risk of discarding them \n",
    "along with values that could be relevant in the context of data analysis, you can replace \n",
    "them with other numbers. For most purposes, the fillna() function is a great choice. \n",
    "This method takes one argument, the value with which to replace any NaN. It can be the \n",
    "same for all cases"
   ]
  },
  {
   "cell_type": "code",
   "execution_count": 88,
   "id": "79d9ecff",
   "metadata": {},
   "outputs": [
    {
     "name": "stdout",
     "output_type": "stream",
     "text": [
      "       ball  mug  pen\n",
      "blue    6.0  0.0  6.0\n",
      "green   0.0  0.0  0.0\n",
      "red     2.0  0.0  5.0\n",
      "\n",
      "       ball  mug   pen\n",
      "blue    6.0  0.0   6.0\n",
      "green   1.0  0.0  99.0\n",
      "red     2.0  0.0   5.0\n"
     ]
    }
   ],
   "source": [
    "print(frame3.fillna(0))\n",
    "print(\"\")\n",
    "print(frame3.fillna({'ball':1,'mug':0,'pen':99}))"
   ]
  },
  {
   "cell_type": "markdown",
   "id": "46f38e0f",
   "metadata": {},
   "source": [
    "# Hierarchical Indexing and Leveling\n",
    "Hierarchical indexing is a very important feature of pandas, as it allows you to have \n",
    "multiple levels of indexes on a single axis. It gives you a way to work with data in multiple \n",
    "dimensions while continuing to work in a two-dimensional structure."
   ]
  },
  {
   "cell_type": "code",
   "execution_count": 91,
   "id": "c9c5e364",
   "metadata": {},
   "outputs": [
    {
     "name": "stdout",
     "output_type": "stream",
     "text": [
      "white  up       0.877203\n",
      "       down     0.484977\n",
      "       right    0.288400\n",
      "blue   up       0.431322\n",
      "       down     0.686827\n",
      "red    up       0.815620\n",
      "       down     0.944900\n",
      "       left     0.644017\n",
      "dtype: float64\n",
      "\n",
      "MultiIndex([('white',    'up'),\n",
      "            ('white',  'down'),\n",
      "            ('white', 'right'),\n",
      "            ( 'blue',    'up'),\n",
      "            ( 'blue',  'down'),\n",
      "            (  'red',    'up'),\n",
      "            (  'red',  'down'),\n",
      "            (  'red',  'left')],\n",
      "           )\n",
      "\n",
      "up       0.877203\n",
      "down     0.484977\n",
      "right    0.288400\n",
      "dtype: float64\n",
      "\n",
      "white    0.877203\n",
      "blue     0.431322\n",
      "red      0.815620\n",
      "dtype: float64\n",
      "\n",
      "0.8772026431572727\n"
     ]
    }
   ],
   "source": [
    "s2 = pd.Series(np.random.rand(8), index=[['white','white','white','blue','blue','red','red','red'], ['up','down','right','up','down','up','down','left']])\n",
    "print(s2)\n",
    "print(\"\")\n",
    "print(s2.index)\n",
    "print(\"\")\n",
    "print(s2['white'])\n",
    "print(\"\")\n",
    "print(s2[:, 'up'])\n",
    "print(\"\")\n",
    "print(s2['white', 'up'])"
   ]
  },
  {
   "cell_type": "markdown",
   "id": "abb536b3",
   "metadata": {},
   "source": [
    "Hierarchical indexing plays a critical role in reshaping data and group-based \n",
    "operations such as a pivot-table. For example, the data could be rearranged and used \n",
    "in a dataframe with a special function called unstack(). This function converts the \n",
    "series with a hierarchical index to a simple dataframe, where the second set of indexes is \n",
    "converted into a new set of columns."
   ]
  },
  {
   "cell_type": "code",
   "execution_count": 92,
   "id": "4de8791f",
   "metadata": {},
   "outputs": [
    {
     "data": {
      "text/html": [
       "<div>\n",
       "<style scoped>\n",
       "    .dataframe tbody tr th:only-of-type {\n",
       "        vertical-align: middle;\n",
       "    }\n",
       "\n",
       "    .dataframe tbody tr th {\n",
       "        vertical-align: top;\n",
       "    }\n",
       "\n",
       "    .dataframe thead th {\n",
       "        text-align: right;\n",
       "    }\n",
       "</style>\n",
       "<table border=\"1\" class=\"dataframe\">\n",
       "  <thead>\n",
       "    <tr style=\"text-align: right;\">\n",
       "      <th></th>\n",
       "      <th>down</th>\n",
       "      <th>left</th>\n",
       "      <th>right</th>\n",
       "      <th>up</th>\n",
       "    </tr>\n",
       "  </thead>\n",
       "  <tbody>\n",
       "    <tr>\n",
       "      <th>blue</th>\n",
       "      <td>0.686827</td>\n",
       "      <td>NaN</td>\n",
       "      <td>NaN</td>\n",
       "      <td>0.431322</td>\n",
       "    </tr>\n",
       "    <tr>\n",
       "      <th>red</th>\n",
       "      <td>0.944900</td>\n",
       "      <td>0.644017</td>\n",
       "      <td>NaN</td>\n",
       "      <td>0.815620</td>\n",
       "    </tr>\n",
       "    <tr>\n",
       "      <th>white</th>\n",
       "      <td>0.484977</td>\n",
       "      <td>NaN</td>\n",
       "      <td>0.2884</td>\n",
       "      <td>0.877203</td>\n",
       "    </tr>\n",
       "  </tbody>\n",
       "</table>\n",
       "</div>"
      ],
      "text/plain": [
       "           down      left   right        up\n",
       "blue   0.686827       NaN     NaN  0.431322\n",
       "red    0.944900  0.644017     NaN  0.815620\n",
       "white  0.484977       NaN  0.2884  0.877203"
      ]
     },
     "execution_count": 92,
     "metadata": {},
     "output_type": "execute_result"
    }
   ],
   "source": [
    "s2.unstack()"
   ]
  },
  {
   "cell_type": "markdown",
   "id": "bb5ee867",
   "metadata": {},
   "source": [
    "If what you want is to perform the reverse operation, which is to convert a dataframe \n",
    "to a series, you use the stack() function"
   ]
  },
  {
   "cell_type": "code",
   "execution_count": 94,
   "id": "800c5750",
   "metadata": {},
   "outputs": [
    {
     "data": {
      "text/plain": [
       "red     ball       0\n",
       "        pen        1\n",
       "        pencil     2\n",
       "        paper      3\n",
       "blue    ball       4\n",
       "        pen        5\n",
       "        pencil     6\n",
       "        paper      7\n",
       "yellow  ball       8\n",
       "        pen        9\n",
       "        pencil    10\n",
       "        paper     11\n",
       "white   ball      12\n",
       "        pen       13\n",
       "        pencil    14\n",
       "        paper     15\n",
       "dtype: int32"
      ]
     },
     "execution_count": 94,
     "metadata": {},
     "output_type": "execute_result"
    }
   ],
   "source": [
    "frame1.stack()"
   ]
  },
  {
   "cell_type": "code",
   "execution_count": null,
   "id": "81cc9a81",
   "metadata": {},
   "outputs": [],
   "source": []
  }
 ],
 "metadata": {
  "kernelspec": {
   "display_name": "Python 3 (ipykernel)",
   "language": "python",
   "name": "python3"
  },
  "language_info": {
   "codemirror_mode": {
    "name": "ipython",
    "version": 3
   },
   "file_extension": ".py",
   "mimetype": "text/x-python",
   "name": "python",
   "nbconvert_exporter": "python",
   "pygments_lexer": "ipython3",
   "version": "3.9.7"
  }
 },
 "nbformat": 4,
 "nbformat_minor": 5
}
