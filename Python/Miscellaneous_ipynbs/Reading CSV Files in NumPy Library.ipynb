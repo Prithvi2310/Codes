{
 "cells": [
  {
   "cell_type": "code",
   "execution_count": 1,
   "id": "3fa439bf",
   "metadata": {},
   "outputs": [],
   "source": [
    "import numpy as a"
   ]
  },
  {
   "cell_type": "code",
   "execution_count": 26,
   "id": "bbcdc53b",
   "metadata": {},
   "outputs": [
    {
     "data": {
      "text/plain": [
       "[[0.664, 0.345, 0.226],\n",
       " [0.887, 0.547, 0.897],\n",
       " [0.06216566, 0.85045125, 0.92093862],\n",
       " [0.58401239, 0.93455057, 0.556]]"
      ]
     },
     "execution_count": 26,
     "metadata": {},
     "output_type": "execute_result"
    }
   ],
   "source": [
    "data =([[ 0.664, 0.345, 0.226],[0.887, 0.547, 0.897],[ 0.06216566, 0.85045125, 0.92093862],[ 0.58401239, 0.93455057, 0.556]])\n",
    "a.save('saved_data',data)\n",
    "loaded_data = a.load('saved_data.npy')\n",
    "data"
   ]
  },
  {
   "cell_type": "code",
   "execution_count": 8,
   "id": "362d1576",
   "metadata": {},
   "outputs": [
    {
     "data": {
      "text/plain": [
       "array([[0.664     , 0.345     , 0.226     ],\n",
       "       [0.887     , 0.547     , 0.897     ],\n",
       "       [0.06216566, 0.85045125, 0.92093862],\n",
       "       [0.58401239, 0.93455057, 0.556     ]])"
      ]
     },
     "execution_count": 8,
     "metadata": {},
     "output_type": "execute_result"
    }
   ],
   "source": [
    "loaded_data"
   ]
  },
  {
   "cell_type": "code",
   "execution_count": 13,
   "id": "730039ef",
   "metadata": {},
   "outputs": [
    {
     "data": {
      "text/plain": [
       "array([(1., 123., 1.4, 23.), (2., 110., 0.5, 18.), (3., 164., 2.1, 19.)],\n",
       "      dtype=[('id', '<f8'), ('value1', '<f8'), ('value2', '<f8'), ('value3', '<f8')])"
      ]
     },
     "execution_count": 13,
     "metadata": {},
     "output_type": "execute_result"
    }
   ],
   "source": [
    "data = a.genfromtxt('D:\\SRMIST\\Foundation of Data Analysis\\ch3_data.csv', delimiter=',', names=True)\n",
    "data"
   ]
  },
  {
   "cell_type": "code",
   "execution_count": 16,
   "id": "ba60f6bb",
   "metadata": {},
   "outputs": [
    {
     "data": {
      "text/plain": [
       "array([(1., 123., 1.4, 23.), (2., 110., nan, 18.), (3.,  nan, 2.1, 19.)],\n",
       "      dtype=[('id', '<f8'), ('value1', '<f8'), ('value2', '<f8'), ('value3', '<f8')])"
      ]
     },
     "execution_count": 16,
     "metadata": {},
     "output_type": "execute_result"
    }
   ],
   "source": [
    "data2 = a.genfromtxt('D:\\SRMIST\\Foundation of Data Analysis\\ch3_data2.csv', delimiter=',', names=True)\n",
    "data2"
   ]
  },
  {
   "cell_type": "code",
   "execution_count": 25,
   "id": "dd067c4c",
   "metadata": {},
   "outputs": [
    {
     "data": {
      "text/plain": [
       "array([1., 2., 3.])"
      ]
     },
     "execution_count": 25,
     "metadata": {},
     "output_type": "execute_result"
    }
   ],
   "source": [
    "data2['id']"
   ]
  },
  {
   "cell_type": "code",
   "execution_count": 23,
   "id": "6b513fad",
   "metadata": {},
   "outputs": [
    {
     "data": {
      "text/plain": [
       "(1., 123., 1.4, 23.)"
      ]
     },
     "execution_count": 23,
     "metadata": {},
     "output_type": "execute_result"
    }
   ],
   "source": [
    "data2 [0]"
   ]
  },
  {
   "cell_type": "code",
   "execution_count": 24,
   "id": "93221f9c",
   "metadata": {},
   "outputs": [
    {
     "data": {
      "text/plain": [
       "(3., 164., 2.1, 19.)"
      ]
     },
     "execution_count": 24,
     "metadata": {},
     "output_type": "execute_result"
    }
   ],
   "source": [
    "data [2]"
   ]
  }
 ],
 "metadata": {
  "kernelspec": {
   "display_name": "Python 3 (ipykernel)",
   "language": "python",
   "name": "python3"
  },
  "language_info": {
   "codemirror_mode": {
    "name": "ipython",
    "version": 3
   },
   "file_extension": ".py",
   "mimetype": "text/x-python",
   "name": "python",
   "nbconvert_exporter": "python",
   "pygments_lexer": "ipython3",
   "version": "3.9.7"
  }
 },
 "nbformat": 4,
 "nbformat_minor": 5
}
