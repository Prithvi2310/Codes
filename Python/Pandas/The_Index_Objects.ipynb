{
 "cells": [
  {
   "cell_type": "markdown",
   "id": "cd93509f",
   "metadata": {},
   "source": [
    "Unlike all the other elements in the pandas data structures(Series and DataFrame), the index objects are immutable. Once declared, they cannot be changed. This ensures their secure sharing between the various data structures."
   ]
  },
  {
   "cell_type": "markdown",
   "id": "8fc00722",
   "metadata": {},
   "source": [
    "## Methods on Index\n",
    "Some indexes are available to get some information abour indexes from a data structure."
   ]
  },
  {
   "cell_type": "code",
   "execution_count": 1,
   "id": "bb04035a",
   "metadata": {},
   "outputs": [],
   "source": [
    "import numpy as np\n",
    "import pandas as pd"
   ]
  },
  {
   "cell_type": "code",
   "execution_count": 18,
   "id": "54eb1426",
   "metadata": {},
   "outputs": [],
   "source": [
    "data = {'color' : ['blue','green','yellow','red','white'],\n",
    "        'object' : ['ball','pen','pencil','paper','mug'],\n",
    "        'price' : [1.2,1.0,0.6,0.9,1.7]}\n",
    "frame = pd.DataFrame(data)"
   ]
  },
  {
   "cell_type": "code",
   "execution_count": 2,
   "id": "c659f36f",
   "metadata": {},
   "outputs": [
    {
     "data": {
      "text/plain": [
       "red       5\n",
       "blue      0\n",
       "yellow    3\n",
       "white     8\n",
       "green     4\n",
       "dtype: int64"
      ]
     },
     "execution_count": 2,
     "metadata": {},
     "output_type": "execute_result"
    }
   ],
   "source": [
    "ser = pd.Series([5,0,3,8,4],index=['red','blue','yellow','white','green'])\n",
    "ser"
   ]
  },
  {
   "cell_type": "code",
   "execution_count": 4,
   "id": "d10cc1a6",
   "metadata": {},
   "outputs": [
    {
     "data": {
      "text/plain": [
       "'blue'"
      ]
     },
     "execution_count": 4,
     "metadata": {},
     "output_type": "execute_result"
    }
   ],
   "source": [
    "# Returns index with the lowest value\n",
    "ser.idxmin()"
   ]
  },
  {
   "cell_type": "code",
   "execution_count": 5,
   "id": "3aaffdef",
   "metadata": {},
   "outputs": [
    {
     "data": {
      "text/plain": [
       "'white'"
      ]
     },
     "execution_count": 5,
     "metadata": {},
     "output_type": "execute_result"
    }
   ],
   "source": [
    "# Returns index with the highest value\n",
    "ser.idxmax()"
   ]
  },
  {
   "cell_type": "markdown",
   "id": "0daee154",
   "metadata": {},
   "source": [
    "## Index with Duplicate Labels"
   ]
  },
  {
   "cell_type": "code",
   "execution_count": 6,
   "id": "0ff9dc49",
   "metadata": {},
   "outputs": [
    {
     "data": {
      "text/plain": [
       "white     0\n",
       "white     1\n",
       "blue      2\n",
       "green     3\n",
       "green     4\n",
       "yellow    5\n",
       "dtype: int64"
      ]
     },
     "execution_count": 6,
     "metadata": {},
     "output_type": "execute_result"
    }
   ],
   "source": [
    "serd = pd.Series(range(6), index=['white','white','blue','green', 'green','yellow'])\n",
    "serd"
   ]
  },
  {
   "cell_type": "code",
   "execution_count": 7,
   "id": "7def21bf",
   "metadata": {},
   "outputs": [
    {
     "data": {
      "text/plain": [
       "white    0\n",
       "white    1\n",
       "dtype: int64"
      ]
     },
     "execution_count": 7,
     "metadata": {},
     "output_type": "execute_result"
    }
   ],
   "source": [
    "serd['white']"
   ]
  },
  {
   "cell_type": "markdown",
   "id": "d98a2a1b",
   "metadata": {},
   "source": [
    "Pandas provides you with the is_unique attribute belonging to the Index objects. This attribute will tell you if there are indexes with duplicate labels inside the structure data (both series and dataframe)."
   ]
  },
  {
   "cell_type": "code",
   "execution_count": 8,
   "id": "2c0a2746",
   "metadata": {},
   "outputs": [
    {
     "data": {
      "text/plain": [
       "False"
      ]
     },
     "execution_count": 8,
     "metadata": {},
     "output_type": "execute_result"
    }
   ],
   "source": [
    "serd.index.is_unique"
   ]
  },
  {
   "cell_type": "code",
   "execution_count": 19,
   "id": "d56d9158",
   "metadata": {},
   "outputs": [
    {
     "data": {
      "text/plain": [
       "True"
      ]
     },
     "execution_count": 19,
     "metadata": {},
     "output_type": "execute_result"
    }
   ],
   "source": [
    "frame.index.is_unique"
   ]
  },
  {
   "cell_type": "markdown",
   "id": "bdb412aa",
   "metadata": {},
   "source": [
    "## Other Functionalities on Indexes"
   ]
  },
  {
   "cell_type": "markdown",
   "id": "efc14a33",
   "metadata": {},
   "source": [
    "### Reindexing"
   ]
  },
  {
   "cell_type": "code",
   "execution_count": 10,
   "id": "afe3851c",
   "metadata": {},
   "outputs": [
    {
     "data": {
      "text/plain": [
       "one      2\n",
       "two      5\n",
       "three    7\n",
       "four     4\n",
       "dtype: int64"
      ]
     },
     "execution_count": 10,
     "metadata": {},
     "output_type": "execute_result"
    }
   ],
   "source": [
    "ser = pd.Series([2,5,7,4], index=['one','two','three','four'])\n",
    "ser"
   ]
  },
  {
   "cell_type": "markdown",
   "id": "61371bb8",
   "metadata": {},
   "source": [
    "In order to reindex this series, pandas provides you with the reindex() function. This function creates a new series object with the values of the previous series rearranged according to the new sequence of labels.<p>During reindexing, it is possible to change the order of the sequence of indexes, delete some of them, or add new ones. In the case of a new label, pandas adds NaN as the corresponding value.</p>"
   ]
  },
  {
   "cell_type": "code",
   "execution_count": 12,
   "id": "6fa3bf56",
   "metadata": {},
   "outputs": [
    {
     "data": {
      "text/plain": [
       "three    7.0\n",
       "four     4.0\n",
       "five     NaN\n",
       "six      NaN\n",
       "one      2.0\n",
       "dtype: float64"
      ]
     },
     "execution_count": 12,
     "metadata": {},
     "output_type": "execute_result"
    }
   ],
   "source": [
    "ser.reindex(['three','four','five','six','one'])"
   ]
  },
  {
   "cell_type": "code",
   "execution_count": 13,
   "id": "345ada23",
   "metadata": {},
   "outputs": [
    {
     "data": {
      "text/plain": [
       "0    1\n",
       "3    5\n",
       "5    6\n",
       "6    3\n",
       "dtype: int64"
      ]
     },
     "execution_count": 13,
     "metadata": {},
     "output_type": "execute_result"
    }
   ],
   "source": [
    "# Interpolation; because the labels are not in order and discontinuous\n",
    "ser3 = pd.Series([1,5,6,3],index=[0,3,5,6])\n",
    "ser3"
   ]
  },
  {
   "cell_type": "code",
   "execution_count": 14,
   "id": "ccbfecc8",
   "metadata": {},
   "outputs": [
    {
     "data": {
      "text/plain": [
       "0    1\n",
       "1    1\n",
       "2    1\n",
       "3    5\n",
       "4    5\n",
       "5    6\n",
       "dtype: int64"
      ]
     },
     "execution_count": 14,
     "metadata": {},
     "output_type": "execute_result"
    }
   ],
   "source": [
    "ser3.reindex(np.arange(6), method='ffill')"
   ]
  },
  {
   "cell_type": "markdown",
   "id": "d21a3ad0",
   "metadata": {},
   "source": [
    "By interpolation, those with the lowest index in the original series have been assigned as values. In fact, index 1 and 2 have values 1 which belongs to index 0.<p>If you want this index value to be assigned during the interpolation, you have to use the bfill method.</p>"
   ]
  },
  {
   "cell_type": "code",
   "execution_count": 16,
   "id": "523ad7e0",
   "metadata": {},
   "outputs": [
    {
     "data": {
      "text/plain": [
       "0    1\n",
       "1    5\n",
       "2    5\n",
       "3    5\n",
       "4    6\n",
       "5    6\n",
       "dtype: int64"
      ]
     },
     "execution_count": 16,
     "metadata": {},
     "output_type": "execute_result"
    }
   ],
   "source": [
    "ser3.reindex(np.arange(6), method='bfill')"
   ]
  },
  {
   "cell_type": "code",
   "execution_count": 20,
   "id": "a4a1a4c1",
   "metadata": {},
   "outputs": [
    {
     "data": {
      "text/html": [
       "<div>\n",
       "<style scoped>\n",
       "    .dataframe tbody tr th:only-of-type {\n",
       "        vertical-align: middle;\n",
       "    }\n",
       "\n",
       "    .dataframe tbody tr th {\n",
       "        vertical-align: top;\n",
       "    }\n",
       "\n",
       "    .dataframe thead th {\n",
       "        text-align: right;\n",
       "    }\n",
       "</style>\n",
       "<table border=\"1\" class=\"dataframe\">\n",
       "  <thead>\n",
       "    <tr style=\"text-align: right;\">\n",
       "      <th></th>\n",
       "      <th>color</th>\n",
       "      <th>object</th>\n",
       "      <th>price</th>\n",
       "    </tr>\n",
       "  </thead>\n",
       "  <tbody>\n",
       "    <tr>\n",
       "      <th>0</th>\n",
       "      <td>blue</td>\n",
       "      <td>ball</td>\n",
       "      <td>1.2</td>\n",
       "    </tr>\n",
       "    <tr>\n",
       "      <th>1</th>\n",
       "      <td>green</td>\n",
       "      <td>pen</td>\n",
       "      <td>1.0</td>\n",
       "    </tr>\n",
       "    <tr>\n",
       "      <th>2</th>\n",
       "      <td>yellow</td>\n",
       "      <td>pencil</td>\n",
       "      <td>0.6</td>\n",
       "    </tr>\n",
       "    <tr>\n",
       "      <th>3</th>\n",
       "      <td>red</td>\n",
       "      <td>paper</td>\n",
       "      <td>0.9</td>\n",
       "    </tr>\n",
       "    <tr>\n",
       "      <th>4</th>\n",
       "      <td>white</td>\n",
       "      <td>mug</td>\n",
       "      <td>1.7</td>\n",
       "    </tr>\n",
       "  </tbody>\n",
       "</table>\n",
       "</div>"
      ],
      "text/plain": [
       "    color  object  price\n",
       "0    blue    ball    1.2\n",
       "1   green     pen    1.0\n",
       "2  yellow  pencil    0.6\n",
       "3     red   paper    0.9\n",
       "4   white     mug    1.7"
      ]
     },
     "execution_count": 20,
     "metadata": {},
     "output_type": "execute_result"
    }
   ],
   "source": [
    "frame"
   ]
  },
  {
   "cell_type": "code",
   "execution_count": 23,
   "id": "292a716d",
   "metadata": {},
   "outputs": [
    {
     "data": {
      "text/html": [
       "<div>\n",
       "<style scoped>\n",
       "    .dataframe tbody tr th:only-of-type {\n",
       "        vertical-align: middle;\n",
       "    }\n",
       "\n",
       "    .dataframe tbody tr th {\n",
       "        vertical-align: top;\n",
       "    }\n",
       "\n",
       "    .dataframe thead th {\n",
       "        text-align: right;\n",
       "    }\n",
       "</style>\n",
       "<table border=\"1\" class=\"dataframe\">\n",
       "  <thead>\n",
       "    <tr style=\"text-align: right;\">\n",
       "      <th></th>\n",
       "      <th>colors</th>\n",
       "      <th>price</th>\n",
       "      <th>new</th>\n",
       "      <th>object</th>\n",
       "    </tr>\n",
       "  </thead>\n",
       "  <tbody>\n",
       "    <tr>\n",
       "      <th>0</th>\n",
       "      <td>blue</td>\n",
       "      <td>1.2</td>\n",
       "      <td>blue</td>\n",
       "      <td>ball</td>\n",
       "    </tr>\n",
       "    <tr>\n",
       "      <th>1</th>\n",
       "      <td>green</td>\n",
       "      <td>1.0</td>\n",
       "      <td>green</td>\n",
       "      <td>pen</td>\n",
       "    </tr>\n",
       "    <tr>\n",
       "      <th>2</th>\n",
       "      <td>yellow</td>\n",
       "      <td>0.6</td>\n",
       "      <td>yellow</td>\n",
       "      <td>pencil</td>\n",
       "    </tr>\n",
       "    <tr>\n",
       "      <th>3</th>\n",
       "      <td>red</td>\n",
       "      <td>0.9</td>\n",
       "      <td>red</td>\n",
       "      <td>paper</td>\n",
       "    </tr>\n",
       "    <tr>\n",
       "      <th>4</th>\n",
       "      <td>white</td>\n",
       "      <td>1.7</td>\n",
       "      <td>white</td>\n",
       "      <td>mug</td>\n",
       "    </tr>\n",
       "  </tbody>\n",
       "</table>\n",
       "</div>"
      ],
      "text/plain": [
       "   colors  price     new  object\n",
       "0    blue    1.2    blue    ball\n",
       "1   green    1.0   green     pen\n",
       "2  yellow    0.6  yellow  pencil\n",
       "3     red    0.9     red   paper\n",
       "4   white    1.7   white     mug"
      ]
     },
     "execution_count": 23,
     "metadata": {},
     "output_type": "execute_result"
    }
   ],
   "source": [
    "frame.reindex(range(5),method='ffill',columns=['colors','price','new','object'])"
   ]
  },
  {
   "cell_type": "markdown",
   "id": "6456334b",
   "metadata": {},
   "source": [
    "## Dropping\n",
    "This method will return a new object without the items that you want to delete."
   ]
  },
  {
   "cell_type": "code",
   "execution_count": 24,
   "id": "4f1f8641",
   "metadata": {},
   "outputs": [
    {
     "data": {
      "text/plain": [
       "red       0.0\n",
       "blue      1.0\n",
       "yellow    2.0\n",
       "white     3.0\n",
       "dtype: float64"
      ]
     },
     "execution_count": 24,
     "metadata": {},
     "output_type": "execute_result"
    }
   ],
   "source": [
    "ser = pd.Series(np.arange(4.), index=['red','blue','yellow','white'])\n",
    "ser"
   ]
  },
  {
   "cell_type": "code",
   "execution_count": 27,
   "id": "9de35b27",
   "metadata": {},
   "outputs": [
    {
     "data": {
      "text/plain": [
       "red      0.0\n",
       "blue     1.0\n",
       "white    3.0\n",
       "dtype: float64"
      ]
     },
     "execution_count": 27,
     "metadata": {},
     "output_type": "execute_result"
    }
   ],
   "source": [
    "ser.drop('yellow')"
   ]
  },
  {
   "cell_type": "code",
   "execution_count": 28,
   "id": "aab278f3",
   "metadata": {},
   "outputs": [
    {
     "data": {
      "text/plain": [
       "red       0.0\n",
       "yellow    2.0\n",
       "dtype: float64"
      ]
     },
     "execution_count": 28,
     "metadata": {},
     "output_type": "execute_result"
    }
   ],
   "source": [
    "# The dropping is not reflected in the original data structure. It just returns the object without the dropped items.\n",
    "ser.drop(['blue','white'])"
   ]
  },
  {
   "cell_type": "code",
   "execution_count": 30,
   "id": "2472f5c9",
   "metadata": {},
   "outputs": [],
   "source": [
    "frame = pd.DataFrame(np.arange(16).reshape((4,4)),index=['red','blue','yellow','white'],columns=['ball','pen','pencil','paper'])"
   ]
  },
  {
   "cell_type": "code",
   "execution_count": 31,
   "id": "c80e25e3",
   "metadata": {},
   "outputs": [
    {
     "data": {
      "text/html": [
       "<div>\n",
       "<style scoped>\n",
       "    .dataframe tbody tr th:only-of-type {\n",
       "        vertical-align: middle;\n",
       "    }\n",
       "\n",
       "    .dataframe tbody tr th {\n",
       "        vertical-align: top;\n",
       "    }\n",
       "\n",
       "    .dataframe thead th {\n",
       "        text-align: right;\n",
       "    }\n",
       "</style>\n",
       "<table border=\"1\" class=\"dataframe\">\n",
       "  <thead>\n",
       "    <tr style=\"text-align: right;\">\n",
       "      <th></th>\n",
       "      <th>ball</th>\n",
       "      <th>pen</th>\n",
       "      <th>pencil</th>\n",
       "      <th>paper</th>\n",
       "    </tr>\n",
       "  </thead>\n",
       "  <tbody>\n",
       "    <tr>\n",
       "      <th>red</th>\n",
       "      <td>0</td>\n",
       "      <td>1</td>\n",
       "      <td>2</td>\n",
       "      <td>3</td>\n",
       "    </tr>\n",
       "    <tr>\n",
       "      <th>blue</th>\n",
       "      <td>4</td>\n",
       "      <td>5</td>\n",
       "      <td>6</td>\n",
       "      <td>7</td>\n",
       "    </tr>\n",
       "    <tr>\n",
       "      <th>yellow</th>\n",
       "      <td>8</td>\n",
       "      <td>9</td>\n",
       "      <td>10</td>\n",
       "      <td>11</td>\n",
       "    </tr>\n",
       "    <tr>\n",
       "      <th>white</th>\n",
       "      <td>12</td>\n",
       "      <td>13</td>\n",
       "      <td>14</td>\n",
       "      <td>15</td>\n",
       "    </tr>\n",
       "  </tbody>\n",
       "</table>\n",
       "</div>"
      ],
      "text/plain": [
       "        ball  pen  pencil  paper\n",
       "red        0    1       2      3\n",
       "blue       4    5       6      7\n",
       "yellow     8    9      10     11\n",
       "white     12   13      14     15"
      ]
     },
     "execution_count": 31,
     "metadata": {},
     "output_type": "execute_result"
    }
   ],
   "source": [
    "frame"
   ]
  },
  {
   "cell_type": "code",
   "execution_count": 32,
   "id": "dded8e5b",
   "metadata": {},
   "outputs": [
    {
     "data": {
      "text/html": [
       "<div>\n",
       "<style scoped>\n",
       "    .dataframe tbody tr th:only-of-type {\n",
       "        vertical-align: middle;\n",
       "    }\n",
       "\n",
       "    .dataframe tbody tr th {\n",
       "        vertical-align: top;\n",
       "    }\n",
       "\n",
       "    .dataframe thead th {\n",
       "        text-align: right;\n",
       "    }\n",
       "</style>\n",
       "<table border=\"1\" class=\"dataframe\">\n",
       "  <thead>\n",
       "    <tr style=\"text-align: right;\">\n",
       "      <th></th>\n",
       "      <th>ball</th>\n",
       "      <th>pen</th>\n",
       "      <th>pencil</th>\n",
       "      <th>paper</th>\n",
       "    </tr>\n",
       "  </thead>\n",
       "  <tbody>\n",
       "    <tr>\n",
       "      <th>red</th>\n",
       "      <td>0</td>\n",
       "      <td>1</td>\n",
       "      <td>2</td>\n",
       "      <td>3</td>\n",
       "    </tr>\n",
       "    <tr>\n",
       "      <th>white</th>\n",
       "      <td>12</td>\n",
       "      <td>13</td>\n",
       "      <td>14</td>\n",
       "      <td>15</td>\n",
       "    </tr>\n",
       "  </tbody>\n",
       "</table>\n",
       "</div>"
      ],
      "text/plain": [
       "       ball  pen  pencil  paper\n",
       "red       0    1       2      3\n",
       "white    12   13      14     15"
      ]
     },
     "execution_count": 32,
     "metadata": {},
     "output_type": "execute_result"
    }
   ],
   "source": [
    "frame.drop(['blue','yellow'])"
   ]
  },
  {
   "cell_type": "markdown",
   "id": "e9903c30",
   "metadata": {},
   "source": [
    "To delete columns, you always need to specify the indexes of the columns, but you must specify the axis from which to delete the elements, and this can be done using the axis option."
   ]
  },
  {
   "cell_type": "code",
   "execution_count": 33,
   "id": "498229d4",
   "metadata": {},
   "outputs": [
    {
     "data": {
      "text/html": [
       "<div>\n",
       "<style scoped>\n",
       "    .dataframe tbody tr th:only-of-type {\n",
       "        vertical-align: middle;\n",
       "    }\n",
       "\n",
       "    .dataframe tbody tr th {\n",
       "        vertical-align: top;\n",
       "    }\n",
       "\n",
       "    .dataframe thead th {\n",
       "        text-align: right;\n",
       "    }\n",
       "</style>\n",
       "<table border=\"1\" class=\"dataframe\">\n",
       "  <thead>\n",
       "    <tr style=\"text-align: right;\">\n",
       "      <th></th>\n",
       "      <th>ball</th>\n",
       "      <th>pen</th>\n",
       "    </tr>\n",
       "  </thead>\n",
       "  <tbody>\n",
       "    <tr>\n",
       "      <th>red</th>\n",
       "      <td>0</td>\n",
       "      <td>1</td>\n",
       "    </tr>\n",
       "    <tr>\n",
       "      <th>blue</th>\n",
       "      <td>4</td>\n",
       "      <td>5</td>\n",
       "    </tr>\n",
       "    <tr>\n",
       "      <th>yellow</th>\n",
       "      <td>8</td>\n",
       "      <td>9</td>\n",
       "    </tr>\n",
       "    <tr>\n",
       "      <th>white</th>\n",
       "      <td>12</td>\n",
       "      <td>13</td>\n",
       "    </tr>\n",
       "  </tbody>\n",
       "</table>\n",
       "</div>"
      ],
      "text/plain": [
       "        ball  pen\n",
       "red        0    1\n",
       "blue       4    5\n",
       "yellow     8    9\n",
       "white     12   13"
      ]
     },
     "execution_count": 33,
     "metadata": {},
     "output_type": "execute_result"
    }
   ],
   "source": [
    "frame.drop(['pencil','paper'],axis=1)"
   ]
  },
  {
   "cell_type": "code",
   "execution_count": 34,
   "id": "7f05b56b",
   "metadata": {},
   "outputs": [
    {
     "data": {
      "text/html": [
       "<div>\n",
       "<style scoped>\n",
       "    .dataframe tbody tr th:only-of-type {\n",
       "        vertical-align: middle;\n",
       "    }\n",
       "\n",
       "    .dataframe tbody tr th {\n",
       "        vertical-align: top;\n",
       "    }\n",
       "\n",
       "    .dataframe thead th {\n",
       "        text-align: right;\n",
       "    }\n",
       "</style>\n",
       "<table border=\"1\" class=\"dataframe\">\n",
       "  <thead>\n",
       "    <tr style=\"text-align: right;\">\n",
       "      <th></th>\n",
       "      <th>ball</th>\n",
       "      <th>pen</th>\n",
       "      <th>pencil</th>\n",
       "      <th>paper</th>\n",
       "    </tr>\n",
       "  </thead>\n",
       "  <tbody>\n",
       "    <tr>\n",
       "      <th>red</th>\n",
       "      <td>0</td>\n",
       "      <td>1</td>\n",
       "      <td>2</td>\n",
       "      <td>3</td>\n",
       "    </tr>\n",
       "    <tr>\n",
       "      <th>blue</th>\n",
       "      <td>4</td>\n",
       "      <td>5</td>\n",
       "      <td>6</td>\n",
       "      <td>7</td>\n",
       "    </tr>\n",
       "    <tr>\n",
       "      <th>yellow</th>\n",
       "      <td>8</td>\n",
       "      <td>9</td>\n",
       "      <td>10</td>\n",
       "      <td>11</td>\n",
       "    </tr>\n",
       "    <tr>\n",
       "      <th>white</th>\n",
       "      <td>12</td>\n",
       "      <td>13</td>\n",
       "      <td>14</td>\n",
       "      <td>15</td>\n",
       "    </tr>\n",
       "  </tbody>\n",
       "</table>\n",
       "</div>"
      ],
      "text/plain": [
       "        ball  pen  pencil  paper\n",
       "red        0    1       2      3\n",
       "blue       4    5       6      7\n",
       "yellow     8    9      10     11\n",
       "white     12   13      14     15"
      ]
     },
     "execution_count": 34,
     "metadata": {},
     "output_type": "execute_result"
    }
   ],
   "source": [
    "frame"
   ]
  },
  {
   "cell_type": "markdown",
   "id": "8f21f9ad",
   "metadata": {},
   "source": [
    "## Arithmetic and Data Alignment\n",
    "Perhaps the most powerful feature involving the indexes in a data structure, is that pandas can align indexes coming from two different data structures."
   ]
  },
  {
   "cell_type": "code",
   "execution_count": 35,
   "id": "9388208d",
   "metadata": {},
   "outputs": [],
   "source": [
    "s1 = pd.Series([3,2,5,1],['white','yellow','green','blue'])\n",
    "s2 = pd.Series([1,4,7,2,1],['white','yellow','black','blue','brown'])"
   ]
  },
  {
   "cell_type": "code",
   "execution_count": 36,
   "id": "b5d18b2f",
   "metadata": {},
   "outputs": [
    {
     "data": {
      "text/plain": [
       "black     NaN\n",
       "blue      3.0\n",
       "brown     NaN\n",
       "green     NaN\n",
       "white     4.0\n",
       "yellow    6.0\n",
       "dtype: float64"
      ]
     },
     "execution_count": 36,
     "metadata": {},
     "output_type": "execute_result"
    }
   ],
   "source": [
    "# When the labels are present in both the objects, their values will be added. If not, the value will be NaN.\n",
    "s1 + s2"
   ]
  },
  {
   "cell_type": "code",
   "execution_count": 37,
   "id": "3e9b1a45",
   "metadata": {},
   "outputs": [],
   "source": [
    "frame1 = pd.DataFrame(np.arange(16).reshape((4,4)), \n",
    "         index=['red','blue','yellow','white'],\n",
    "         columns=['ball','pen','pencil','paper'])"
   ]
  },
  {
   "cell_type": "code",
   "execution_count": 40,
   "id": "791f5b5a",
   "metadata": {},
   "outputs": [],
   "source": [
    "frame2 = pd.DataFrame(np.arange(12).reshape((4,3)),\n",
    "                       index=['blue','green','white','yellow'],\n",
    "                       columns=['mug','pen','ball'])"
   ]
  },
  {
   "cell_type": "code",
   "execution_count": 41,
   "id": "614b2212",
   "metadata": {},
   "outputs": [
    {
     "data": {
      "text/html": [
       "<div>\n",
       "<style scoped>\n",
       "    .dataframe tbody tr th:only-of-type {\n",
       "        vertical-align: middle;\n",
       "    }\n",
       "\n",
       "    .dataframe tbody tr th {\n",
       "        vertical-align: top;\n",
       "    }\n",
       "\n",
       "    .dataframe thead th {\n",
       "        text-align: right;\n",
       "    }\n",
       "</style>\n",
       "<table border=\"1\" class=\"dataframe\">\n",
       "  <thead>\n",
       "    <tr style=\"text-align: right;\">\n",
       "      <th></th>\n",
       "      <th>ball</th>\n",
       "      <th>pen</th>\n",
       "      <th>pencil</th>\n",
       "      <th>paper</th>\n",
       "    </tr>\n",
       "  </thead>\n",
       "  <tbody>\n",
       "    <tr>\n",
       "      <th>red</th>\n",
       "      <td>0</td>\n",
       "      <td>1</td>\n",
       "      <td>2</td>\n",
       "      <td>3</td>\n",
       "    </tr>\n",
       "    <tr>\n",
       "      <th>blue</th>\n",
       "      <td>4</td>\n",
       "      <td>5</td>\n",
       "      <td>6</td>\n",
       "      <td>7</td>\n",
       "    </tr>\n",
       "    <tr>\n",
       "      <th>yellow</th>\n",
       "      <td>8</td>\n",
       "      <td>9</td>\n",
       "      <td>10</td>\n",
       "      <td>11</td>\n",
       "    </tr>\n",
       "    <tr>\n",
       "      <th>white</th>\n",
       "      <td>12</td>\n",
       "      <td>13</td>\n",
       "      <td>14</td>\n",
       "      <td>15</td>\n",
       "    </tr>\n",
       "  </tbody>\n",
       "</table>\n",
       "</div>"
      ],
      "text/plain": [
       "        ball  pen  pencil  paper\n",
       "red        0    1       2      3\n",
       "blue       4    5       6      7\n",
       "yellow     8    9      10     11\n",
       "white     12   13      14     15"
      ]
     },
     "execution_count": 41,
     "metadata": {},
     "output_type": "execute_result"
    }
   ],
   "source": [
    "frame1"
   ]
  },
  {
   "cell_type": "code",
   "execution_count": 42,
   "id": "6afb8b8e",
   "metadata": {},
   "outputs": [
    {
     "data": {
      "text/html": [
       "<div>\n",
       "<style scoped>\n",
       "    .dataframe tbody tr th:only-of-type {\n",
       "        vertical-align: middle;\n",
       "    }\n",
       "\n",
       "    .dataframe tbody tr th {\n",
       "        vertical-align: top;\n",
       "    }\n",
       "\n",
       "    .dataframe thead th {\n",
       "        text-align: right;\n",
       "    }\n",
       "</style>\n",
       "<table border=\"1\" class=\"dataframe\">\n",
       "  <thead>\n",
       "    <tr style=\"text-align: right;\">\n",
       "      <th></th>\n",
       "      <th>mug</th>\n",
       "      <th>pen</th>\n",
       "      <th>ball</th>\n",
       "    </tr>\n",
       "  </thead>\n",
       "  <tbody>\n",
       "    <tr>\n",
       "      <th>blue</th>\n",
       "      <td>0</td>\n",
       "      <td>1</td>\n",
       "      <td>2</td>\n",
       "    </tr>\n",
       "    <tr>\n",
       "      <th>green</th>\n",
       "      <td>3</td>\n",
       "      <td>4</td>\n",
       "      <td>5</td>\n",
       "    </tr>\n",
       "    <tr>\n",
       "      <th>white</th>\n",
       "      <td>6</td>\n",
       "      <td>7</td>\n",
       "      <td>8</td>\n",
       "    </tr>\n",
       "    <tr>\n",
       "      <th>yellow</th>\n",
       "      <td>9</td>\n",
       "      <td>10</td>\n",
       "      <td>11</td>\n",
       "    </tr>\n",
       "  </tbody>\n",
       "</table>\n",
       "</div>"
      ],
      "text/plain": [
       "        mug  pen  ball\n",
       "blue      0    1     2\n",
       "green     3    4     5\n",
       "white     6    7     8\n",
       "yellow    9   10    11"
      ]
     },
     "execution_count": 42,
     "metadata": {},
     "output_type": "execute_result"
    }
   ],
   "source": [
    "frame2"
   ]
  },
  {
   "cell_type": "code",
   "execution_count": 43,
   "id": "9d642d9b",
   "metadata": {},
   "outputs": [
    {
     "data": {
      "text/html": [
       "<div>\n",
       "<style scoped>\n",
       "    .dataframe tbody tr th:only-of-type {\n",
       "        vertical-align: middle;\n",
       "    }\n",
       "\n",
       "    .dataframe tbody tr th {\n",
       "        vertical-align: top;\n",
       "    }\n",
       "\n",
       "    .dataframe thead th {\n",
       "        text-align: right;\n",
       "    }\n",
       "</style>\n",
       "<table border=\"1\" class=\"dataframe\">\n",
       "  <thead>\n",
       "    <tr style=\"text-align: right;\">\n",
       "      <th></th>\n",
       "      <th>ball</th>\n",
       "      <th>mug</th>\n",
       "      <th>paper</th>\n",
       "      <th>pen</th>\n",
       "      <th>pencil</th>\n",
       "    </tr>\n",
       "  </thead>\n",
       "  <tbody>\n",
       "    <tr>\n",
       "      <th>blue</th>\n",
       "      <td>6.0</td>\n",
       "      <td>NaN</td>\n",
       "      <td>NaN</td>\n",
       "      <td>6.0</td>\n",
       "      <td>NaN</td>\n",
       "    </tr>\n",
       "    <tr>\n",
       "      <th>green</th>\n",
       "      <td>NaN</td>\n",
       "      <td>NaN</td>\n",
       "      <td>NaN</td>\n",
       "      <td>NaN</td>\n",
       "      <td>NaN</td>\n",
       "    </tr>\n",
       "    <tr>\n",
       "      <th>red</th>\n",
       "      <td>NaN</td>\n",
       "      <td>NaN</td>\n",
       "      <td>NaN</td>\n",
       "      <td>NaN</td>\n",
       "      <td>NaN</td>\n",
       "    </tr>\n",
       "    <tr>\n",
       "      <th>white</th>\n",
       "      <td>20.0</td>\n",
       "      <td>NaN</td>\n",
       "      <td>NaN</td>\n",
       "      <td>20.0</td>\n",
       "      <td>NaN</td>\n",
       "    </tr>\n",
       "    <tr>\n",
       "      <th>yellow</th>\n",
       "      <td>19.0</td>\n",
       "      <td>NaN</td>\n",
       "      <td>NaN</td>\n",
       "      <td>19.0</td>\n",
       "      <td>NaN</td>\n",
       "    </tr>\n",
       "  </tbody>\n",
       "</table>\n",
       "</div>"
      ],
      "text/plain": [
       "        ball  mug  paper   pen  pencil\n",
       "blue     6.0  NaN    NaN   6.0     NaN\n",
       "green    NaN  NaN    NaN   NaN     NaN\n",
       "red      NaN  NaN    NaN   NaN     NaN\n",
       "white   20.0  NaN    NaN  20.0     NaN\n",
       "yellow  19.0  NaN    NaN  19.0     NaN"
      ]
     },
     "execution_count": 43,
     "metadata": {},
     "output_type": "execute_result"
    }
   ],
   "source": [
    "frame1 + frame2"
   ]
  },
  {
   "cell_type": "code",
   "execution_count": null,
   "id": "ff3158a1",
   "metadata": {},
   "outputs": [],
   "source": []
  }
 ],
 "metadata": {
  "kernelspec": {
   "display_name": "Python 3 (ipykernel)",
   "language": "python",
   "name": "python3"
  },
  "language_info": {
   "codemirror_mode": {
    "name": "ipython",
    "version": 3
   },
   "file_extension": ".py",
   "mimetype": "text/x-python",
   "name": "python",
   "nbconvert_exporter": "python",
   "pygments_lexer": "ipython3",
   "version": "3.9.7"
  }
 },
 "nbformat": 4,
 "nbformat_minor": 5
}
