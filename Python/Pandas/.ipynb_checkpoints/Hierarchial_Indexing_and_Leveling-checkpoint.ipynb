{
 "cells": [
  {
   "cell_type": "code",
   "execution_count": 1,
   "id": "03c7714f",
   "metadata": {},
   "outputs": [],
   "source": [
    "import numpy as np\n",
    "import pandas as pd"
   ]
  },
  {
   "cell_type": "code",
   "execution_count": 3,
   "id": "2259bea0",
   "metadata": {},
   "outputs": [],
   "source": [
    "mser = pd.Series(np.random.rand(8),\n",
    "... index=[['white','white','white','blue','blue','red','red',\n",
    "'red'],\n",
    "... ['up','down','right','up','down','up','down','left']])"
   ]
  },
  {
   "cell_type": "code",
   "execution_count": 4,
   "id": "90d21960",
   "metadata": {},
   "outputs": [
    {
     "data": {
      "text/plain": [
       "white  up       0.151011\n",
       "       down     0.597565\n",
       "       right    0.292808\n",
       "blue   up       0.551770\n",
       "       down     0.837617\n",
       "red    up       0.992567\n",
       "       down     0.098735\n",
       "       left     0.319876\n",
       "dtype: float64"
      ]
     },
     "execution_count": 4,
     "metadata": {},
     "output_type": "execute_result"
    }
   ],
   "source": [
    "mser"
   ]
  },
  {
   "cell_type": "code",
   "execution_count": 5,
   "id": "eacada47",
   "metadata": {},
   "outputs": [
    {
     "data": {
      "text/plain": [
       "MultiIndex([('white',    'up'),\n",
       "            ('white',  'down'),\n",
       "            ('white', 'right'),\n",
       "            ( 'blue',    'up'),\n",
       "            ( 'blue',  'down'),\n",
       "            (  'red',    'up'),\n",
       "            (  'red',  'down'),\n",
       "            (  'red',  'left')],\n",
       "           )"
      ]
     },
     "execution_count": 5,
     "metadata": {},
     "output_type": "execute_result"
    }
   ],
   "source": [
    "mser.index"
   ]
  },
  {
   "cell_type": "code",
   "execution_count": 6,
   "id": "a24fea7e",
   "metadata": {},
   "outputs": [
    {
     "data": {
      "text/plain": [
       "up       0.151011\n",
       "down     0.597565\n",
       "right    0.292808\n",
       "dtype: float64"
      ]
     },
     "execution_count": 6,
     "metadata": {},
     "output_type": "execute_result"
    }
   ],
   "source": [
    "mser['white']"
   ]
  },
  {
   "cell_type": "code",
   "execution_count": 7,
   "id": "fc942306",
   "metadata": {},
   "outputs": [
    {
     "data": {
      "text/plain": [
       "white    0.151011\n",
       "blue     0.551770\n",
       "red      0.992567\n",
       "dtype: float64"
      ]
     },
     "execution_count": 7,
     "metadata": {},
     "output_type": "execute_result"
    }
   ],
   "source": [
    "mser[:,'up']"
   ]
  },
  {
   "cell_type": "code",
   "execution_count": 8,
   "id": "744d7d2a",
   "metadata": {},
   "outputs": [
    {
     "data": {
      "text/plain": [
       "0.5975654901709233"
      ]
     },
     "execution_count": 8,
     "metadata": {},
     "output_type": "execute_result"
    }
   ],
   "source": [
    "mser['white','down']"
   ]
  },
  {
   "cell_type": "markdown",
   "id": "f5972c75",
   "metadata": {},
   "source": [
    "The unstack() function converts the\n",
    "series with a hierarchical index to a simple dataframe, where the second set of indexes is\n",
    "converted into a new set of columns."
   ]
  },
  {
   "cell_type": "code",
   "execution_count": 14,
   "id": "1358cdd8",
   "metadata": {},
   "outputs": [
    {
     "data": {
      "text/html": [
       "<div>\n",
       "<style scoped>\n",
       "    .dataframe tbody tr th:only-of-type {\n",
       "        vertical-align: middle;\n",
       "    }\n",
       "\n",
       "    .dataframe tbody tr th {\n",
       "        vertical-align: top;\n",
       "    }\n",
       "\n",
       "    .dataframe thead th {\n",
       "        text-align: right;\n",
       "    }\n",
       "</style>\n",
       "<table border=\"1\" class=\"dataframe\">\n",
       "  <thead>\n",
       "    <tr style=\"text-align: right;\">\n",
       "      <th></th>\n",
       "      <th>down</th>\n",
       "      <th>left</th>\n",
       "      <th>right</th>\n",
       "      <th>up</th>\n",
       "    </tr>\n",
       "  </thead>\n",
       "  <tbody>\n",
       "    <tr>\n",
       "      <th>blue</th>\n",
       "      <td>0.837617</td>\n",
       "      <td>NaN</td>\n",
       "      <td>NaN</td>\n",
       "      <td>0.551770</td>\n",
       "    </tr>\n",
       "    <tr>\n",
       "      <th>red</th>\n",
       "      <td>0.098735</td>\n",
       "      <td>0.319876</td>\n",
       "      <td>NaN</td>\n",
       "      <td>0.992567</td>\n",
       "    </tr>\n",
       "    <tr>\n",
       "      <th>white</th>\n",
       "      <td>0.597565</td>\n",
       "      <td>NaN</td>\n",
       "      <td>0.292808</td>\n",
       "      <td>0.151011</td>\n",
       "    </tr>\n",
       "  </tbody>\n",
       "</table>\n",
       "</div>"
      ],
      "text/plain": [
       "           down      left     right        up\n",
       "blue   0.837617       NaN       NaN  0.551770\n",
       "red    0.098735  0.319876       NaN  0.992567\n",
       "white  0.597565       NaN  0.292808  0.151011"
      ]
     },
     "execution_count": 14,
     "metadata": {},
     "output_type": "execute_result"
    }
   ],
   "source": [
    "frame = mser.unstack()\n",
    "frame"
   ]
  },
  {
   "cell_type": "markdown",
   "id": "e586c7ac",
   "metadata": {},
   "source": [
    "If what you want is to perform the reverse operation, which is to convert a dataframe\n",
    "to a series, you use the stack() function."
   ]
  },
  {
   "cell_type": "code",
   "execution_count": 15,
   "id": "449aae41",
   "metadata": {},
   "outputs": [
    {
     "data": {
      "text/plain": [
       "blue   down     0.837617\n",
       "       up       0.551770\n",
       "red    down     0.098735\n",
       "       left     0.319876\n",
       "       up       0.992567\n",
       "white  down     0.597565\n",
       "       right    0.292808\n",
       "       up       0.151011\n",
       "dtype: float64"
      ]
     },
     "execution_count": 15,
     "metadata": {},
     "output_type": "execute_result"
    }
   ],
   "source": [
    "frame.stack()"
   ]
  },
  {
   "cell_type": "markdown",
   "id": "37e0e8b4",
   "metadata": {},
   "source": [
    "With dataframe, it is possible to define a hierarchical index both for the rows and for\n",
    "the columns. At the time the dataframe is declared, you have to define an array of arrays\n",
    "for the index and columns options."
   ]
  },
  {
   "cell_type": "code",
   "execution_count": 16,
   "id": "99c95185",
   "metadata": {},
   "outputs": [],
   "source": [
    "mframe = pd.DataFrame(np.random.randn(16).reshape(4,4),\n",
    "... index=[['white','white','red','red'], ['up','down','up','down']],\n",
    "... columns=[['pen','pen','paper','paper'],[1,2,1,2]])"
   ]
  },
  {
   "cell_type": "code",
   "execution_count": 17,
   "id": "e8dbc3b2",
   "metadata": {},
   "outputs": [
    {
     "data": {
      "text/html": [
       "<div>\n",
       "<style scoped>\n",
       "    .dataframe tbody tr th:only-of-type {\n",
       "        vertical-align: middle;\n",
       "    }\n",
       "\n",
       "    .dataframe tbody tr th {\n",
       "        vertical-align: top;\n",
       "    }\n",
       "\n",
       "    .dataframe thead tr th {\n",
       "        text-align: left;\n",
       "    }\n",
       "</style>\n",
       "<table border=\"1\" class=\"dataframe\">\n",
       "  <thead>\n",
       "    <tr>\n",
       "      <th></th>\n",
       "      <th></th>\n",
       "      <th colspan=\"2\" halign=\"left\">pen</th>\n",
       "      <th colspan=\"2\" halign=\"left\">paper</th>\n",
       "    </tr>\n",
       "    <tr>\n",
       "      <th></th>\n",
       "      <th></th>\n",
       "      <th>1</th>\n",
       "      <th>2</th>\n",
       "      <th>1</th>\n",
       "      <th>2</th>\n",
       "    </tr>\n",
       "  </thead>\n",
       "  <tbody>\n",
       "    <tr>\n",
       "      <th rowspan=\"2\" valign=\"top\">white</th>\n",
       "      <th>up</th>\n",
       "      <td>-0.739810</td>\n",
       "      <td>0.116329</td>\n",
       "      <td>0.557049</td>\n",
       "      <td>1.376212</td>\n",
       "    </tr>\n",
       "    <tr>\n",
       "      <th>down</th>\n",
       "      <td>-0.668948</td>\n",
       "      <td>2.241387</td>\n",
       "      <td>0.468882</td>\n",
       "      <td>0.567394</td>\n",
       "    </tr>\n",
       "    <tr>\n",
       "      <th rowspan=\"2\" valign=\"top\">red</th>\n",
       "      <th>up</th>\n",
       "      <td>0.729228</td>\n",
       "      <td>1.497532</td>\n",
       "      <td>-0.106143</td>\n",
       "      <td>1.154797</td>\n",
       "    </tr>\n",
       "    <tr>\n",
       "      <th>down</th>\n",
       "      <td>0.330887</td>\n",
       "      <td>-2.217362</td>\n",
       "      <td>1.115872</td>\n",
       "      <td>-0.594540</td>\n",
       "    </tr>\n",
       "  </tbody>\n",
       "</table>\n",
       "</div>"
      ],
      "text/plain": [
       "                 pen               paper          \n",
       "                   1         2         1         2\n",
       "white up   -0.739810  0.116329  0.557049  1.376212\n",
       "      down -0.668948  2.241387  0.468882  0.567394\n",
       "red   up    0.729228  1.497532 -0.106143  1.154797\n",
       "      down  0.330887 -2.217362  1.115872 -0.594540"
      ]
     },
     "execution_count": 17,
     "metadata": {},
     "output_type": "execute_result"
    }
   ],
   "source": [
    "mframe"
   ]
  },
  {
   "cell_type": "markdown",
   "id": "23c909de",
   "metadata": {},
   "source": [
    "## Reordering and Sorting Levels"
   ]
  },
  {
   "cell_type": "code",
   "execution_count": 18,
   "id": "3fee28f3",
   "metadata": {},
   "outputs": [],
   "source": [
    "mframe.columns.names = ['object','id']\n",
    "mframe.index.names = ['colors','status']"
   ]
  },
  {
   "cell_type": "code",
   "execution_count": 19,
   "id": "273a116e",
   "metadata": {},
   "outputs": [
    {
     "data": {
      "text/html": [
       "<div>\n",
       "<style scoped>\n",
       "    .dataframe tbody tr th:only-of-type {\n",
       "        vertical-align: middle;\n",
       "    }\n",
       "\n",
       "    .dataframe tbody tr th {\n",
       "        vertical-align: top;\n",
       "    }\n",
       "\n",
       "    .dataframe thead tr th {\n",
       "        text-align: left;\n",
       "    }\n",
       "\n",
       "    .dataframe thead tr:last-of-type th {\n",
       "        text-align: right;\n",
       "    }\n",
       "</style>\n",
       "<table border=\"1\" class=\"dataframe\">\n",
       "  <thead>\n",
       "    <tr>\n",
       "      <th></th>\n",
       "      <th>object</th>\n",
       "      <th colspan=\"2\" halign=\"left\">pen</th>\n",
       "      <th colspan=\"2\" halign=\"left\">paper</th>\n",
       "    </tr>\n",
       "    <tr>\n",
       "      <th></th>\n",
       "      <th>id</th>\n",
       "      <th>1</th>\n",
       "      <th>2</th>\n",
       "      <th>1</th>\n",
       "      <th>2</th>\n",
       "    </tr>\n",
       "    <tr>\n",
       "      <th>colors</th>\n",
       "      <th>status</th>\n",
       "      <th></th>\n",
       "      <th></th>\n",
       "      <th></th>\n",
       "      <th></th>\n",
       "    </tr>\n",
       "  </thead>\n",
       "  <tbody>\n",
       "    <tr>\n",
       "      <th rowspan=\"2\" valign=\"top\">white</th>\n",
       "      <th>up</th>\n",
       "      <td>-0.739810</td>\n",
       "      <td>0.116329</td>\n",
       "      <td>0.557049</td>\n",
       "      <td>1.376212</td>\n",
       "    </tr>\n",
       "    <tr>\n",
       "      <th>down</th>\n",
       "      <td>-0.668948</td>\n",
       "      <td>2.241387</td>\n",
       "      <td>0.468882</td>\n",
       "      <td>0.567394</td>\n",
       "    </tr>\n",
       "    <tr>\n",
       "      <th rowspan=\"2\" valign=\"top\">red</th>\n",
       "      <th>up</th>\n",
       "      <td>0.729228</td>\n",
       "      <td>1.497532</td>\n",
       "      <td>-0.106143</td>\n",
       "      <td>1.154797</td>\n",
       "    </tr>\n",
       "    <tr>\n",
       "      <th>down</th>\n",
       "      <td>0.330887</td>\n",
       "      <td>-2.217362</td>\n",
       "      <td>1.115872</td>\n",
       "      <td>-0.594540</td>\n",
       "    </tr>\n",
       "  </tbody>\n",
       "</table>\n",
       "</div>"
      ],
      "text/plain": [
       "object              pen               paper          \n",
       "id                    1         2         1         2\n",
       "colors status                                        \n",
       "white  up     -0.739810  0.116329  0.557049  1.376212\n",
       "       down   -0.668948  2.241387  0.468882  0.567394\n",
       "red    up      0.729228  1.497532 -0.106143  1.154797\n",
       "       down    0.330887 -2.217362  1.115872 -0.594540"
      ]
     },
     "execution_count": 19,
     "metadata": {},
     "output_type": "execute_result"
    }
   ],
   "source": [
    "mframe"
   ]
  },
  {
   "cell_type": "code",
   "execution_count": 21,
   "id": "1f3c480f",
   "metadata": {},
   "outputs": [
    {
     "data": {
      "text/html": [
       "<div>\n",
       "<style scoped>\n",
       "    .dataframe tbody tr th:only-of-type {\n",
       "        vertical-align: middle;\n",
       "    }\n",
       "\n",
       "    .dataframe tbody tr th {\n",
       "        vertical-align: top;\n",
       "    }\n",
       "\n",
       "    .dataframe thead tr th {\n",
       "        text-align: left;\n",
       "    }\n",
       "\n",
       "    .dataframe thead tr:last-of-type th {\n",
       "        text-align: right;\n",
       "    }\n",
       "</style>\n",
       "<table border=\"1\" class=\"dataframe\">\n",
       "  <thead>\n",
       "    <tr>\n",
       "      <th></th>\n",
       "      <th>object</th>\n",
       "      <th colspan=\"2\" halign=\"left\">pen</th>\n",
       "      <th colspan=\"2\" halign=\"left\">paper</th>\n",
       "    </tr>\n",
       "    <tr>\n",
       "      <th></th>\n",
       "      <th>id</th>\n",
       "      <th>1</th>\n",
       "      <th>2</th>\n",
       "      <th>1</th>\n",
       "      <th>2</th>\n",
       "    </tr>\n",
       "    <tr>\n",
       "      <th>status</th>\n",
       "      <th>colors</th>\n",
       "      <th></th>\n",
       "      <th></th>\n",
       "      <th></th>\n",
       "      <th></th>\n",
       "    </tr>\n",
       "  </thead>\n",
       "  <tbody>\n",
       "    <tr>\n",
       "      <th>up</th>\n",
       "      <th>white</th>\n",
       "      <td>-0.739810</td>\n",
       "      <td>0.116329</td>\n",
       "      <td>0.557049</td>\n",
       "      <td>1.376212</td>\n",
       "    </tr>\n",
       "    <tr>\n",
       "      <th>down</th>\n",
       "      <th>white</th>\n",
       "      <td>-0.668948</td>\n",
       "      <td>2.241387</td>\n",
       "      <td>0.468882</td>\n",
       "      <td>0.567394</td>\n",
       "    </tr>\n",
       "    <tr>\n",
       "      <th>up</th>\n",
       "      <th>red</th>\n",
       "      <td>0.729228</td>\n",
       "      <td>1.497532</td>\n",
       "      <td>-0.106143</td>\n",
       "      <td>1.154797</td>\n",
       "    </tr>\n",
       "    <tr>\n",
       "      <th>down</th>\n",
       "      <th>red</th>\n",
       "      <td>0.330887</td>\n",
       "      <td>-2.217362</td>\n",
       "      <td>1.115872</td>\n",
       "      <td>-0.594540</td>\n",
       "    </tr>\n",
       "  </tbody>\n",
       "</table>\n",
       "</div>"
      ],
      "text/plain": [
       "object              pen               paper          \n",
       "id                    1         2         1         2\n",
       "status colors                                        \n",
       "up     white  -0.739810  0.116329  0.557049  1.376212\n",
       "down   white  -0.668948  2.241387  0.468882  0.567394\n",
       "up     red     0.729228  1.497532 -0.106143  1.154797\n",
       "down   red     0.330887 -2.217362  1.115872 -0.594540"
      ]
     },
     "execution_count": 21,
     "metadata": {},
     "output_type": "execute_result"
    }
   ],
   "source": [
    "mframe.swaplevel('colors','status')"
   ]
  },
  {
   "cell_type": "code",
   "execution_count": 24,
   "id": "362c62d1",
   "metadata": {},
   "outputs": [
    {
     "data": {
      "text/html": [
       "<div>\n",
       "<style scoped>\n",
       "    .dataframe tbody tr th:only-of-type {\n",
       "        vertical-align: middle;\n",
       "    }\n",
       "\n",
       "    .dataframe tbody tr th {\n",
       "        vertical-align: top;\n",
       "    }\n",
       "\n",
       "    .dataframe thead tr th {\n",
       "        text-align: left;\n",
       "    }\n",
       "\n",
       "    .dataframe thead tr:last-of-type th {\n",
       "        text-align: right;\n",
       "    }\n",
       "</style>\n",
       "<table border=\"1\" class=\"dataframe\">\n",
       "  <thead>\n",
       "    <tr>\n",
       "      <th></th>\n",
       "      <th>object</th>\n",
       "      <th colspan=\"2\" halign=\"left\">pen</th>\n",
       "      <th colspan=\"2\" halign=\"left\">paper</th>\n",
       "    </tr>\n",
       "    <tr>\n",
       "      <th></th>\n",
       "      <th>id</th>\n",
       "      <th>1</th>\n",
       "      <th>2</th>\n",
       "      <th>1</th>\n",
       "      <th>2</th>\n",
       "    </tr>\n",
       "    <tr>\n",
       "      <th>colors</th>\n",
       "      <th>status</th>\n",
       "      <th></th>\n",
       "      <th></th>\n",
       "      <th></th>\n",
       "      <th></th>\n",
       "    </tr>\n",
       "  </thead>\n",
       "  <tbody>\n",
       "    <tr>\n",
       "      <th rowspan=\"2\" valign=\"top\">red</th>\n",
       "      <th>down</th>\n",
       "      <td>0.330887</td>\n",
       "      <td>-2.217362</td>\n",
       "      <td>1.115872</td>\n",
       "      <td>-0.594540</td>\n",
       "    </tr>\n",
       "    <tr>\n",
       "      <th>up</th>\n",
       "      <td>0.729228</td>\n",
       "      <td>1.497532</td>\n",
       "      <td>-0.106143</td>\n",
       "      <td>1.154797</td>\n",
       "    </tr>\n",
       "    <tr>\n",
       "      <th rowspan=\"2\" valign=\"top\">white</th>\n",
       "      <th>down</th>\n",
       "      <td>-0.668948</td>\n",
       "      <td>2.241387</td>\n",
       "      <td>0.468882</td>\n",
       "      <td>0.567394</td>\n",
       "    </tr>\n",
       "    <tr>\n",
       "      <th>up</th>\n",
       "      <td>-0.739810</td>\n",
       "      <td>0.116329</td>\n",
       "      <td>0.557049</td>\n",
       "      <td>1.376212</td>\n",
       "    </tr>\n",
       "  </tbody>\n",
       "</table>\n",
       "</div>"
      ],
      "text/plain": [
       "object              pen               paper          \n",
       "id                    1         2         1         2\n",
       "colors status                                        \n",
       "red    down    0.330887 -2.217362  1.115872 -0.594540\n",
       "       up      0.729228  1.497532 -0.106143  1.154797\n",
       "white  down   -0.668948  2.241387  0.468882  0.567394\n",
       "       up     -0.739810  0.116329  0.557049  1.376212"
      ]
     },
     "execution_count": 24,
     "metadata": {},
     "output_type": "execute_result"
    }
   ],
   "source": [
    "mframe.sort_index(level='colors')"
   ]
  },
  {
   "cell_type": "markdown",
   "id": "da0d714f",
   "metadata": {},
   "source": [
    "## Summary Statistic by  Level"
   ]
  },
  {
   "cell_type": "code",
   "execution_count": 25,
   "id": "450231e9",
   "metadata": {},
   "outputs": [
    {
     "name": "stderr",
     "output_type": "stream",
     "text": [
      "C:\\Users\\shahp\\AppData\\Local\\Temp/ipykernel_15044/3153633550.py:1: FutureWarning: Using the level keyword in DataFrame and Series aggregations is deprecated and will be removed in a future version. Use groupby instead. df.sum(level=1) should use df.groupby(level=1).sum().\n",
      "  mframe.sum(level='colors')\n"
     ]
    },
    {
     "data": {
      "text/html": [
       "<div>\n",
       "<style scoped>\n",
       "    .dataframe tbody tr th:only-of-type {\n",
       "        vertical-align: middle;\n",
       "    }\n",
       "\n",
       "    .dataframe tbody tr th {\n",
       "        vertical-align: top;\n",
       "    }\n",
       "\n",
       "    .dataframe thead tr th {\n",
       "        text-align: left;\n",
       "    }\n",
       "\n",
       "    .dataframe thead tr:last-of-type th {\n",
       "        text-align: right;\n",
       "    }\n",
       "</style>\n",
       "<table border=\"1\" class=\"dataframe\">\n",
       "  <thead>\n",
       "    <tr>\n",
       "      <th>object</th>\n",
       "      <th colspan=\"2\" halign=\"left\">pen</th>\n",
       "      <th colspan=\"2\" halign=\"left\">paper</th>\n",
       "    </tr>\n",
       "    <tr>\n",
       "      <th>id</th>\n",
       "      <th>1</th>\n",
       "      <th>2</th>\n",
       "      <th>1</th>\n",
       "      <th>2</th>\n",
       "    </tr>\n",
       "    <tr>\n",
       "      <th>colors</th>\n",
       "      <th></th>\n",
       "      <th></th>\n",
       "      <th></th>\n",
       "      <th></th>\n",
       "    </tr>\n",
       "  </thead>\n",
       "  <tbody>\n",
       "    <tr>\n",
       "      <th>white</th>\n",
       "      <td>-1.408758</td>\n",
       "      <td>2.357715</td>\n",
       "      <td>1.025932</td>\n",
       "      <td>1.943606</td>\n",
       "    </tr>\n",
       "    <tr>\n",
       "      <th>red</th>\n",
       "      <td>1.060115</td>\n",
       "      <td>-0.719830</td>\n",
       "      <td>1.009729</td>\n",
       "      <td>0.560257</td>\n",
       "    </tr>\n",
       "  </tbody>\n",
       "</table>\n",
       "</div>"
      ],
      "text/plain": [
       "object       pen               paper          \n",
       "id             1         2         1         2\n",
       "colors                                        \n",
       "white  -1.408758  2.357715  1.025932  1.943606\n",
       "red     1.060115 -0.719830  1.009729  0.560257"
      ]
     },
     "execution_count": 25,
     "metadata": {},
     "output_type": "execute_result"
    }
   ],
   "source": [
    "mframe.sum(level='colors')"
   ]
  },
  {
   "cell_type": "code",
   "execution_count": 26,
   "id": "0743bfab",
   "metadata": {},
   "outputs": [
    {
     "name": "stderr",
     "output_type": "stream",
     "text": [
      "C:\\Users\\shahp\\AppData\\Local\\Temp/ipykernel_15044/471540532.py:1: FutureWarning: Using the level keyword in DataFrame and Series aggregations is deprecated and will be removed in a future version. Use groupby instead. df.sum(level=1) should use df.groupby(level=1).sum().\n",
      "  mframe.sum(level='id',axis=1)\n"
     ]
    },
    {
     "data": {
      "text/html": [
       "<div>\n",
       "<style scoped>\n",
       "    .dataframe tbody tr th:only-of-type {\n",
       "        vertical-align: middle;\n",
       "    }\n",
       "\n",
       "    .dataframe tbody tr th {\n",
       "        vertical-align: top;\n",
       "    }\n",
       "\n",
       "    .dataframe thead th {\n",
       "        text-align: right;\n",
       "    }\n",
       "</style>\n",
       "<table border=\"1\" class=\"dataframe\">\n",
       "  <thead>\n",
       "    <tr style=\"text-align: right;\">\n",
       "      <th></th>\n",
       "      <th>id</th>\n",
       "      <th>1</th>\n",
       "      <th>2</th>\n",
       "    </tr>\n",
       "    <tr>\n",
       "      <th>colors</th>\n",
       "      <th>status</th>\n",
       "      <th></th>\n",
       "      <th></th>\n",
       "    </tr>\n",
       "  </thead>\n",
       "  <tbody>\n",
       "    <tr>\n",
       "      <th rowspan=\"2\" valign=\"top\">white</th>\n",
       "      <th>up</th>\n",
       "      <td>-0.182760</td>\n",
       "      <td>1.492541</td>\n",
       "    </tr>\n",
       "    <tr>\n",
       "      <th>down</th>\n",
       "      <td>-0.200066</td>\n",
       "      <td>2.808780</td>\n",
       "    </tr>\n",
       "    <tr>\n",
       "      <th rowspan=\"2\" valign=\"top\">red</th>\n",
       "      <th>up</th>\n",
       "      <td>0.623085</td>\n",
       "      <td>2.652328</td>\n",
       "    </tr>\n",
       "    <tr>\n",
       "      <th>down</th>\n",
       "      <td>1.446758</td>\n",
       "      <td>-2.811902</td>\n",
       "    </tr>\n",
       "  </tbody>\n",
       "</table>\n",
       "</div>"
      ],
      "text/plain": [
       "id                    1         2\n",
       "colors status                    \n",
       "white  up     -0.182760  1.492541\n",
       "       down   -0.200066  2.808780\n",
       "red    up      0.623085  2.652328\n",
       "       down    1.446758 -2.811902"
      ]
     },
     "execution_count": 26,
     "metadata": {},
     "output_type": "execute_result"
    }
   ],
   "source": [
    "mframe.sum(level='id',axis=1)"
   ]
  }
 ],
 "metadata": {
  "kernelspec": {
   "display_name": "Python 3 (ipykernel)",
   "language": "python",
   "name": "python3"
  },
  "language_info": {
   "codemirror_mode": {
    "name": "ipython",
    "version": 3
   },
   "file_extension": ".py",
   "mimetype": "text/x-python",
   "name": "python",
   "nbconvert_exporter": "python",
   "pygments_lexer": "ipython3",
   "version": "3.9.7"
  }
 },
 "nbformat": 4,
 "nbformat_minor": 5
}
