{
 "cells": [
  {
   "cell_type": "code",
   "execution_count": 1,
   "id": "8d905324",
   "metadata": {},
   "outputs": [],
   "source": [
    "import numpy as np"
   ]
  },
  {
   "cell_type": "code",
   "execution_count": 2,
   "id": "908dafb5",
   "metadata": {},
   "outputs": [],
   "source": [
    "data=([[ 0.86466285, 0.76943895, 0.22678279],\n",
    "[ 0.12452825, 0.54751384, 0.06499123],\n",
    "[ 0.06216566, 0.85045125, 0.92093862],\n",
    "[ 0.58401239, 0.93455057, 0.28972379]])"
   ]
  },
  {
   "cell_type": "code",
   "execution_count": 3,
   "id": "3ef94236",
   "metadata": {},
   "outputs": [],
   "source": [
    "np.save('saved_data',data)"
   ]
  },
  {
   "cell_type": "code",
   "execution_count": 4,
   "id": "54dccb7a",
   "metadata": {},
   "outputs": [],
   "source": [
    "loaded_data = np.load('saved_data.npy')"
   ]
  },
  {
   "cell_type": "code",
   "execution_count": 5,
   "id": "9846ad67",
   "metadata": {},
   "outputs": [
    {
     "data": {
      "text/plain": [
       "array([[0.86466285, 0.76943895, 0.22678279],\n",
       "       [0.12452825, 0.54751384, 0.06499123],\n",
       "       [0.06216566, 0.85045125, 0.92093862],\n",
       "       [0.58401239, 0.93455057, 0.28972379]])"
      ]
     },
     "execution_count": 5,
     "metadata": {},
     "output_type": "execute_result"
    }
   ],
   "source": [
    "loaded_data"
   ]
  },
  {
   "cell_type": "code",
   "execution_count": null,
   "id": "fa0748a4",
   "metadata": {},
   "outputs": [],
   "source": []
  }
 ],
 "metadata": {
  "kernelspec": {
   "display_name": "Python 3 (ipykernel)",
   "language": "python",
   "name": "python3"
  },
  "language_info": {
   "codemirror_mode": {
    "name": "ipython",
    "version": 3
   },
   "file_extension": ".py",
   "mimetype": "text/x-python",
   "name": "python",
   "nbconvert_exporter": "python",
   "pygments_lexer": "ipython3",
   "version": "3.9.12"
  }
 },
 "nbformat": 4,
 "nbformat_minor": 5
}
