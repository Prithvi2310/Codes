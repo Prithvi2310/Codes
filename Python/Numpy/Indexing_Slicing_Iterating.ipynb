{
 "cells": [
  {
   "cell_type": "markdown",
   "id": "0f8aa40a",
   "metadata": {},
   "source": [
    "## Indexing"
   ]
  },
  {
   "cell_type": "code",
   "execution_count": 1,
   "id": "173a478b",
   "metadata": {},
   "outputs": [],
   "source": [
    "import numpy as np\n",
    "import math"
   ]
  },
  {
   "cell_type": "code",
   "execution_count": 2,
   "id": "91c311ca",
   "metadata": {},
   "outputs": [
    {
     "data": {
      "text/plain": [
       "array([10, 11, 12, 13, 14, 15])"
      ]
     },
     "execution_count": 2,
     "metadata": {},
     "output_type": "execute_result"
    }
   ],
   "source": [
    "# To select multiple items at once, pass array of indexes in square brackets\n",
    "a = np.arange(10,16)\n",
    "a"
   ]
  },
  {
   "cell_type": "code",
   "execution_count": 3,
   "id": "ec7d25f4",
   "metadata": {},
   "outputs": [
    {
     "data": {
      "text/plain": [
       "array([11, 13, 15])"
      ]
     },
     "execution_count": 3,
     "metadata": {},
     "output_type": "execute_result"
    }
   ],
   "source": [
    "a[[1,3,5]]"
   ]
  },
  {
   "cell_type": "code",
   "execution_count": 4,
   "id": "40502dcc",
   "metadata": {},
   "outputs": [
    {
     "data": {
      "text/plain": [
       "array([[10, 11, 12],\n",
       "       [13, 14, 15],\n",
       "       [16, 17, 18]])"
      ]
     },
     "execution_count": 4,
     "metadata": {},
     "output_type": "execute_result"
    }
   ],
   "source": [
    "# Indexing a bidimensional array\n",
    "a = np.arange(10,19).reshape(3,3)\n",
    "a"
   ]
  },
  {
   "cell_type": "code",
   "execution_count": 5,
   "id": "cf267250",
   "metadata": {},
   "outputs": [
    {
     "data": {
      "text/plain": [
       "15"
      ]
     },
     "execution_count": 5,
     "metadata": {},
     "output_type": "execute_result"
    }
   ],
   "source": [
    "a[1,2]"
   ]
  },
  {
   "cell_type": "markdown",
   "id": "43e57d0c",
   "metadata": {},
   "source": [
    "## Slicing"
   ]
  },
  {
   "cell_type": "code",
   "execution_count": 38,
   "id": "ea313baa",
   "metadata": {},
   "outputs": [
    {
     "data": {
      "text/plain": [
       "array([10, 11, 12, 13, 14, 15])"
      ]
     },
     "execution_count": 38,
     "metadata": {},
     "output_type": "execute_result"
    }
   ],
   "source": [
    "# ':' is used for slicing numpy array \n",
    "a = np.arange(10,16)\n",
    "a"
   ]
  },
  {
   "cell_type": "code",
   "execution_count": 7,
   "id": "77aa71c5",
   "metadata": {},
   "outputs": [
    {
     "data": {
      "text/plain": [
       "array([11, 12, 13, 14])"
      ]
     },
     "execution_count": 7,
     "metadata": {},
     "output_type": "execute_result"
    }
   ],
   "source": [
    "a[1:5]"
   ]
  },
  {
   "cell_type": "code",
   "execution_count": 8,
   "id": "798bf8de",
   "metadata": {},
   "outputs": [
    {
     "data": {
      "text/plain": [
       "array([11, 12, 13, 14, 15])"
      ]
     },
     "execution_count": 8,
     "metadata": {},
     "output_type": "execute_result"
    }
   ],
   "source": [
    "a[1:]"
   ]
  },
  {
   "cell_type": "code",
   "execution_count": 9,
   "id": "fedbdcac",
   "metadata": {},
   "outputs": [
    {
     "data": {
      "text/plain": [
       "array([11, 13])"
      ]
     },
     "execution_count": 9,
     "metadata": {},
     "output_type": "execute_result"
    }
   ],
   "source": [
    "# Slicing with steps\n",
    "a[1:5:2]"
   ]
  },
  {
   "cell_type": "code",
   "execution_count": 10,
   "id": "9059633f",
   "metadata": {},
   "outputs": [
    {
     "data": {
      "text/plain": [
       "array([10, 12, 14])"
      ]
     },
     "execution_count": 10,
     "metadata": {},
     "output_type": "execute_result"
    }
   ],
   "source": [
    "a[::2]"
   ]
  },
  {
   "cell_type": "code",
   "execution_count": 11,
   "id": "d3461c2a",
   "metadata": {},
   "outputs": [
    {
     "data": {
      "text/plain": [
       "array([10, 12, 14])"
      ]
     },
     "execution_count": 11,
     "metadata": {},
     "output_type": "execute_result"
    }
   ],
   "source": [
    "a[:5:2]"
   ]
  },
  {
   "cell_type": "code",
   "execution_count": 12,
   "id": "c2a32a18",
   "metadata": {},
   "outputs": [
    {
     "data": {
      "text/plain": [
       "array([10, 11, 12, 13, 14])"
      ]
     },
     "execution_count": 12,
     "metadata": {},
     "output_type": "execute_result"
    }
   ],
   "source": [
    "a[:5:]"
   ]
  },
  {
   "cell_type": "code",
   "execution_count": 13,
   "id": "ca63743f",
   "metadata": {},
   "outputs": [
    {
     "data": {
      "text/plain": [
       "array([[10, 11, 12],\n",
       "       [13, 14, 15],\n",
       "       [16, 17, 18]])"
      ]
     },
     "execution_count": 13,
     "metadata": {},
     "output_type": "execute_result"
    }
   ],
   "source": [
    "A = np.arange(10,19).reshape((3,3))\n",
    "A"
   ]
  },
  {
   "cell_type": "code",
   "execution_count": 14,
   "id": "ae6a157c",
   "metadata": {},
   "outputs": [
    {
     "data": {
      "text/plain": [
       "array([10, 11, 12])"
      ]
     },
     "execution_count": 14,
     "metadata": {},
     "output_type": "execute_result"
    }
   ],
   "source": [
    "# A[rows,columns]\n",
    "# Here it prints the elements of first row only because the row value is set to 0. \n",
    "A[0,:]"
   ]
  },
  {
   "cell_type": "code",
   "execution_count": 15,
   "id": "96e2f967",
   "metadata": {},
   "outputs": [
    {
     "data": {
      "text/plain": [
       "array([10, 13, 16])"
      ]
     },
     "execution_count": 15,
     "metadata": {},
     "output_type": "execute_result"
    }
   ],
   "source": [
    "# Here it prints the elements of first column only because the column value is set to 0.\n",
    "A[:,0]"
   ]
  },
  {
   "cell_type": "code",
   "execution_count": 35,
   "id": "c2ed500e",
   "metadata": {},
   "outputs": [
    {
     "data": {
      "text/plain": [
       "array([[ 0,  1,  2,  3,  4],\n",
       "       [ 5,  6,  7,  8,  9],\n",
       "       [10, 11, 12, 13, 14],\n",
       "       [15, 16, 17, 18, 19],\n",
       "       [20, 21, 22, 23, 24]])"
      ]
     },
     "execution_count": 35,
     "metadata": {},
     "output_type": "execute_result"
    }
   ],
   "source": [
    "# To extract a smaller matrix from a larger one\n",
    "A = np.arange(0,25).reshape(5,5)\n",
    "A"
   ]
  },
  {
   "cell_type": "code",
   "execution_count": 17,
   "id": "2bd72c37",
   "metadata": {},
   "outputs": [
    {
     "data": {
      "text/plain": [
       "array([[ 6,  7,  8],\n",
       "       [11, 12, 13],\n",
       "       [16, 17, 18]])"
      ]
     },
     "execution_count": 17,
     "metadata": {},
     "output_type": "execute_result"
    }
   ],
   "source": [
    "A[1:4,1:4]"
   ]
  },
  {
   "cell_type": "code",
   "execution_count": 18,
   "id": "84a29fed",
   "metadata": {},
   "outputs": [
    {
     "data": {
      "text/plain": [
       "array([[ 6,  7,  8],\n",
       "       [21, 22, 23]])"
      ]
     },
     "execution_count": 18,
     "metadata": {},
     "output_type": "execute_result"
    }
   ],
   "source": [
    "# Here since we passed an array of indices, it only selected those rows.\n",
    "A[[1,4],1:4]"
   ]
  },
  {
   "cell_type": "markdown",
   "id": "cf5f6972",
   "metadata": {},
   "source": [
    "## Iterating an Array"
   ]
  },
  {
   "cell_type": "code",
   "execution_count": 39,
   "id": "c78de588",
   "metadata": {},
   "outputs": [
    {
     "name": "stdout",
     "output_type": "stream",
     "text": [
      "10\n",
      "11\n",
      "12\n",
      "13\n",
      "14\n",
      "15\n"
     ]
    }
   ],
   "source": [
    "for item in a:\n",
    "    print(item)"
   ]
  },
  {
   "cell_type": "code",
   "execution_count": 40,
   "id": "049fbb67",
   "metadata": {},
   "outputs": [
    {
     "name": "stdout",
     "output_type": "stream",
     "text": [
      "[0 1 2 3 4]\n",
      "[5 6 7 8 9]\n",
      "[10 11 12 13 14]\n",
      "[15 16 17 18 19]\n",
      "[20 21 22 23 24]\n"
     ]
    }
   ],
   "source": [
    "for row in A:\n",
    "    print(row)"
   ]
  },
  {
   "cell_type": "code",
   "execution_count": 46,
   "id": "e2bc4357",
   "metadata": {},
   "outputs": [
    {
     "data": {
      "text/plain": [
       "array([[10, 11, 12, 13],\n",
       "       [14, 15, 16, 17],\n",
       "       [18, 19, 20, 21]])"
      ]
     },
     "execution_count": 46,
     "metadata": {},
     "output_type": "execute_result"
    }
   ],
   "source": [
    "a = np.arange(10,22).reshape(3,4)\n",
    "a"
   ]
  },
  {
   "cell_type": "code",
   "execution_count": 47,
   "id": "4849412a",
   "metadata": {},
   "outputs": [
    {
     "name": "stdout",
     "output_type": "stream",
     "text": [
      "10\n",
      "11\n",
      "12\n",
      "13\n",
      "14\n",
      "15\n",
      "16\n",
      "17\n",
      "18\n",
      "19\n",
      "20\n",
      "21\n"
     ]
    }
   ],
   "source": [
    "# To make an iteration element by element, we can use the following construct, using for loop on A.flat.\n",
    "for element in a.flat:\n",
    "    print(element)"
   ]
  },
  {
   "cell_type": "markdown",
   "id": "2bf978aa",
   "metadata": {},
   "source": [
    "Generally, we need to apply an iteration to apply a function on the rows or columns or on an individual element.\n",
    "There is a better way to do so : apply_along_axis() function. This function applys aggregate function on the axis which is passed to the function.\n",
    "\n",
    "This function takes three arguments : the aggregate function, the axis on which to apply the iteration and the array."
   ]
  },
  {
   "cell_type": "code",
   "execution_count": 48,
   "id": "7f3a9512",
   "metadata": {},
   "outputs": [
    {
     "data": {
      "text/plain": [
       "array([42, 45, 48, 51])"
      ]
     },
     "execution_count": 48,
     "metadata": {},
     "output_type": "execute_result"
    }
   ],
   "source": [
    "# axis = 0, the iteration evaluates the elements column by column.\n",
    "# axis = 1, the iteration ealuates the elements row by row.\n",
    "np.apply_along_axis(np.sum, axis=0, arr=a)"
   ]
  },
  {
   "cell_type": "code",
   "execution_count": 49,
   "id": "20a55fbc",
   "metadata": {},
   "outputs": [
    {
     "data": {
      "text/plain": [
       "array([46, 62, 78])"
      ]
     },
     "execution_count": 49,
     "metadata": {},
     "output_type": "execute_result"
    }
   ],
   "source": [
    "np.apply_along_axis(np.sum, axis=1, arr=a)"
   ]
  },
  {
   "cell_type": "markdown",
   "id": "2fb9013a",
   "metadata": {},
   "source": [
    "#### Because ufunc operates element by element, iterating it over by axis = 0 or axis = 1 produces the same result"
   ]
  },
  {
   "cell_type": "markdown",
   "id": "2e8aa551",
   "metadata": {},
   "source": [
    "## Conditions and Boolean Arrays"
   ]
  },
  {
   "cell_type": "code",
   "execution_count": 52,
   "id": "3f594bf3",
   "metadata": {},
   "outputs": [
    {
     "data": {
      "text/plain": [
       "array([[0.05676464, 0.06759056, 0.88179362, 0.48907769],\n",
       "       [0.40700672, 0.99404418, 0.85569836, 0.42305098],\n",
       "       [0.07600693, 0.90887302, 0.89636459, 0.18756756],\n",
       "       [0.80152917, 0.70605938, 0.32123215, 0.26104481]])"
      ]
     },
     "execution_count": 52,
     "metadata": {},
     "output_type": "execute_result"
    }
   ],
   "source": [
    "A = np.random.random((4,4))\n",
    "A"
   ]
  },
  {
   "cell_type": "code",
   "execution_count": 53,
   "id": "6a6f2ad3",
   "metadata": {},
   "outputs": [
    {
     "data": {
      "text/plain": [
       "array([[ True,  True, False,  True],\n",
       "       [ True, False, False,  True],\n",
       "       [ True, False, False,  True],\n",
       "       [False, False,  True,  True]])"
      ]
     },
     "execution_count": 53,
     "metadata": {},
     "output_type": "execute_result"
    }
   ],
   "source": [
    "A < 0.5"
   ]
  },
  {
   "cell_type": "code",
   "execution_count": 54,
   "id": "993683cf",
   "metadata": {},
   "outputs": [
    {
     "data": {
      "text/plain": [
       "array([0.05676464, 0.06759056, 0.48907769, 0.40700672, 0.42305098,\n",
       "       0.07600693, 0.18756756, 0.32123215, 0.26104481])"
      ]
     },
     "execution_count": 54,
     "metadata": {},
     "output_type": "execute_result"
    }
   ],
   "source": [
    "# This boolean method is used implicitly to extract values smaller than 0.5, so as to obtain a new array \n",
    "A[A<0.5]"
   ]
  },
  {
   "cell_type": "code",
   "execution_count": 55,
   "id": "cf541a1a",
   "metadata": {},
   "outputs": [
    {
     "data": {
      "text/plain": [
       "array([[0.05676464, 0.06759056, 0.88179362, 0.48907769],\n",
       "       [0.40700672, 0.99404418, 0.85569836, 0.42305098],\n",
       "       [0.07600693, 0.90887302, 0.89636459, 0.18756756],\n",
       "       [0.80152917, 0.70605938, 0.32123215, 0.26104481]])"
      ]
     },
     "execution_count": 55,
     "metadata": {},
     "output_type": "execute_result"
    }
   ],
   "source": [
    "A"
   ]
  },
  {
   "cell_type": "markdown",
   "id": "a5b9c99d",
   "metadata": {},
   "source": [
    "## Shape Manipulation"
   ]
  },
  {
   "cell_type": "code",
   "execution_count": 59,
   "id": "e0c0dafc",
   "metadata": {},
   "outputs": [
    {
     "data": {
      "text/plain": [
       "array([0.58265185, 0.27985656, 0.18763574, 0.71850412, 0.32734846,\n",
       "       0.5917246 , 0.11948515, 0.40067553, 0.41908326, 0.62713607,\n",
       "       0.743463  , 0.87091627])"
      ]
     },
     "execution_count": 59,
     "metadata": {},
     "output_type": "execute_result"
    }
   ],
   "source": [
    "a = np.random.random(12)\n",
    "a"
   ]
  },
  {
   "cell_type": "markdown",
   "id": "7b1e86f4",
   "metadata": {},
   "source": [
    "### The reshape() function returns a new array and can therefore create new objects."
   ]
  },
  {
   "cell_type": "code",
   "execution_count": 60,
   "id": "c3cc604b",
   "metadata": {},
   "outputs": [
    {
     "data": {
      "text/plain": [
       "array([[0.58265185, 0.27985656, 0.18763574, 0.71850412],\n",
       "       [0.32734846, 0.5917246 , 0.11948515, 0.40067553],\n",
       "       [0.41908326, 0.62713607, 0.743463  , 0.87091627]])"
      ]
     },
     "execution_count": 60,
     "metadata": {},
     "output_type": "execute_result"
    }
   ],
   "source": [
    "A = a.reshape(3,4)\n",
    "A"
   ]
  },
  {
   "cell_type": "markdown",
   "id": "922fefdf",
   "metadata": {},
   "source": [
    "### If you want to modify the object by modifying the shape, you have to assign a tuple containing the new dimensions directly to its shape attribute."
   ]
  },
  {
   "cell_type": "code",
   "execution_count": 61,
   "id": "e9661dc9",
   "metadata": {},
   "outputs": [
    {
     "data": {
      "text/plain": [
       "array([[0.58265185, 0.27985656, 0.18763574],\n",
       "       [0.71850412, 0.32734846, 0.5917246 ],\n",
       "       [0.11948515, 0.40067553, 0.41908326],\n",
       "       [0.62713607, 0.743463  , 0.87091627]])"
      ]
     },
     "execution_count": 61,
     "metadata": {},
     "output_type": "execute_result"
    }
   ],
   "source": [
    "a.shape = (4,3)\n",
    "a"
   ]
  },
  {
   "cell_type": "code",
   "execution_count": 62,
   "id": "b8e387c8",
   "metadata": {},
   "outputs": [
    {
     "data": {
      "text/plain": [
       "array([0.58265185, 0.27985656, 0.18763574, 0.71850412, 0.32734846,\n",
       "       0.5917246 , 0.11948515, 0.40067553, 0.41908326, 0.62713607,\n",
       "       0.743463  , 0.87091627])"
      ]
     },
     "execution_count": 62,
     "metadata": {},
     "output_type": "execute_result"
    }
   ],
   "source": [
    "# Using the ravel function a 2-D array can be converted into a 1-D array \n",
    "a = a.ravel()\n",
    "a"
   ]
  },
  {
   "cell_type": "code",
   "execution_count": 63,
   "id": "f7c43520",
   "metadata": {},
   "outputs": [
    {
     "data": {
      "text/plain": [
       "array([0.58265185, 0.27985656, 0.18763574, 0.71850412, 0.32734846,\n",
       "       0.5917246 , 0.11948515, 0.40067553, 0.41908326, 0.62713607,\n",
       "       0.743463  , 0.87091627])"
      ]
     },
     "execution_count": 63,
     "metadata": {},
     "output_type": "execute_result"
    }
   ],
   "source": [
    "# Another method\n",
    "a.shape = (12)\n",
    "a"
   ]
  },
  {
   "cell_type": "markdown",
   "id": "a406369a",
   "metadata": {},
   "source": [
    "## Transposing a Matrix\n",
    "It inverts the columns with the rows."
   ]
  },
  {
   "cell_type": "code",
   "execution_count": 64,
   "id": "77f20584",
   "metadata": {},
   "outputs": [
    {
     "data": {
      "text/plain": [
       "array([[0.58265185, 0.32734846, 0.41908326],\n",
       "       [0.27985656, 0.5917246 , 0.62713607],\n",
       "       [0.18763574, 0.11948515, 0.743463  ],\n",
       "       [0.71850412, 0.40067553, 0.87091627]])"
      ]
     },
     "execution_count": 64,
     "metadata": {},
     "output_type": "execute_result"
    }
   ],
   "source": [
    "A.transpose()"
   ]
  }
 ],
 "metadata": {
  "kernelspec": {
   "display_name": "Python 3 (ipykernel)",
   "language": "python",
   "name": "python3"
  },
  "language_info": {
   "codemirror_mode": {
    "name": "ipython",
    "version": 3
   },
   "file_extension": ".py",
   "mimetype": "text/x-python",
   "name": "python",
   "nbconvert_exporter": "python",
   "pygments_lexer": "ipython3",
   "version": "3.9.12"
  }
 },
 "nbformat": 4,
 "nbformat_minor": 5
}
